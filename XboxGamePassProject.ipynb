{
 "cells": [
  {
   "cell_type": "code",
   "execution_count": 509,
   "id": "0e328a1e",
   "metadata": {},
   "outputs": [],
   "source": [
    "import numpy as np\n",
    "import matplotlib.pyplot as plt \n",
    "import pandas as pd  \n",
    "import seaborn as sns \n",
    "%matplotlib inline"
   ]
  },
  {
   "cell_type": "code",
   "execution_count": 510,
   "id": "31f971b3",
   "metadata": {},
   "outputs": [
    {
     "data": {
      "text/plain": [
       "{'encoding': 'utf-8', 'confidence': 0.938125, 'language': ''}"
      ]
     },
     "execution_count": 510,
     "metadata": {},
     "output_type": "execute_result"
    }
   ],
   "source": [
    "# In here we are getting the enconder\n",
    "import chardet\n",
    "file = 'U:\\XboxGamePassDataScience\\XboxGamePass.csv'\n",
    "with open(file, 'rb') as rawdata:\n",
    "    result = chardet.detect(rawdata.read(100000))\n",
    "result"
   ]
  },
  {
   "cell_type": "code",
   "execution_count": 511,
   "id": "0c38f30d",
   "metadata": {},
   "outputs": [],
   "source": [
    "# In here we are retreaving the csv's info and getting in into a DataFrame called df\n",
    "df = pd.read_csv(file, encoding='utf-8')\n",
    "# df"
   ]
  },
  {
   "cell_type": "code",
   "execution_count": 512,
   "id": "f546cefb",
   "metadata": {},
   "outputs": [],
   "source": [
    "# Here we conver a .csv into a parquetfile\n",
    "from fastparquet import ParquetFile\n",
    "parquet = df.to_parquet()\n",
    "# parquet\n",
    "# What is happening here?"
   ]
  },
  {
   "cell_type": "code",
   "execution_count": 513,
   "id": "8e43376d",
   "metadata": {},
   "outputs": [],
   "source": [
    "# Here we drop all rows that contain a type of NaN value\n",
    "df = df.dropna()\n",
    "# df"
   ]
  },
  {
   "cell_type": "code",
   "execution_count": 514,
   "id": "2d786e59",
   "metadata": {},
   "outputs": [
    {
     "data": {
      "text/html": [
       "<div>\n",
       "<style scoped>\n",
       "    .dataframe tbody tr th:only-of-type {\n",
       "        vertical-align: middle;\n",
       "    }\n",
       "\n",
       "    .dataframe tbody tr th {\n",
       "        vertical-align: top;\n",
       "    }\n",
       "\n",
       "    .dataframe thead th {\n",
       "        text-align: right;\n",
       "    }\n",
       "</style>\n",
       "<table border=\"1\" class=\"dataframe\">\n",
       "  <thead>\n",
       "    <tr style=\"text-align: right;\">\n",
       "      <th></th>\n",
       "      <th>GAME</th>\n",
       "      <th>RATIO</th>\n",
       "      <th>GAMERS</th>\n",
       "      <th>COMP %</th>\n",
       "      <th>TIME</th>\n",
       "      <th>RATING</th>\n",
       "      <th>ADDED</th>\n",
       "      <th>True_Achievement</th>\n",
       "      <th>Game_Score</th>\n",
       "    </tr>\n",
       "  </thead>\n",
       "  <tbody>\n",
       "    <tr>\n",
       "      <th>0</th>\n",
       "      <td>Mass Effect Legendary Edition</td>\n",
       "      <td>1.87</td>\n",
       "      <td>84,143</td>\n",
       "      <td>4.1</td>\n",
       "      <td>100-120 hours</td>\n",
       "      <td>4.8</td>\n",
       "      <td>06 Jan 22</td>\n",
       "      <td>5442</td>\n",
       "      <td>2915</td>\n",
       "    </tr>\n",
       "    <tr>\n",
       "      <th>1</th>\n",
       "      <td>The Elder Scrolls V: Skyrim Special Edition</td>\n",
       "      <td>1.97</td>\n",
       "      <td>213,257</td>\n",
       "      <td>8.0</td>\n",
       "      <td>80-100 hours</td>\n",
       "      <td>4.7</td>\n",
       "      <td>15 Dec 20</td>\n",
       "      <td>3055</td>\n",
       "      <td>1550</td>\n",
       "    </tr>\n",
       "    <tr>\n",
       "      <th>2</th>\n",
       "      <td>Mass Effect 2</td>\n",
       "      <td>1.34</td>\n",
       "      <td>221,178</td>\n",
       "      <td>9.6</td>\n",
       "      <td>50-60 hours</td>\n",
       "      <td>4.7</td>\n",
       "      <td>09 Nov 20</td>\n",
       "      <td>1819</td>\n",
       "      <td>1355</td>\n",
       "    </tr>\n",
       "    <tr>\n",
       "      <th>3</th>\n",
       "      <td>Stardew Valley</td>\n",
       "      <td>3.04</td>\n",
       "      <td>51,530</td>\n",
       "      <td>1.0</td>\n",
       "      <td>150-200 hours</td>\n",
       "      <td>4.7</td>\n",
       "      <td>02 Dec 21</td>\n",
       "      <td>3036</td>\n",
       "      <td>1000</td>\n",
       "    </tr>\n",
       "    <tr>\n",
       "      <th>4</th>\n",
       "      <td>It Takes Two</td>\n",
       "      <td>1.68</td>\n",
       "      <td>71,981</td>\n",
       "      <td>15.6</td>\n",
       "      <td>12-15 hours</td>\n",
       "      <td>4.7</td>\n",
       "      <td>03 Nov 21</td>\n",
       "      <td>1678</td>\n",
       "      <td>1000</td>\n",
       "    </tr>\n",
       "    <tr>\n",
       "      <th>5</th>\n",
       "      <td>Hades</td>\n",
       "      <td>2.40</td>\n",
       "      <td>83,710</td>\n",
       "      <td>6.1</td>\n",
       "      <td>60-80 hours</td>\n",
       "      <td>4.6</td>\n",
       "      <td>18 Jun 21</td>\n",
       "      <td>2404</td>\n",
       "      <td>1000</td>\n",
       "    </tr>\n",
       "    <tr>\n",
       "      <th>6</th>\n",
       "      <td>Resident Evil 7: Biohazard Grotesque Ver.</td>\n",
       "      <td>1.58</td>\n",
       "      <td>777</td>\n",
       "      <td>9.8</td>\n",
       "      <td>15-20 hours</td>\n",
       "      <td>4.6</td>\n",
       "      <td>17 Sep 20</td>\n",
       "      <td>2560</td>\n",
       "      <td>1620</td>\n",
       "    </tr>\n",
       "    <tr>\n",
       "      <th>7</th>\n",
       "      <td>Yakuza: Like a Dragon</td>\n",
       "      <td>2.13</td>\n",
       "      <td>39,229</td>\n",
       "      <td>3.8</td>\n",
       "      <td>80-100 hours</td>\n",
       "      <td>4.6</td>\n",
       "      <td>13 Jun 21</td>\n",
       "      <td>2130</td>\n",
       "      <td>1000</td>\n",
       "    </tr>\n",
       "    <tr>\n",
       "      <th>8</th>\n",
       "      <td>Forza Horizon 4</td>\n",
       "      <td>2.91</td>\n",
       "      <td>379,536</td>\n",
       "      <td>0.9</td>\n",
       "      <td>60-80 hours</td>\n",
       "      <td>4.6</td>\n",
       "      <td>18 Dec 19</td>\n",
       "      <td>10516</td>\n",
       "      <td>3610</td>\n",
       "    </tr>\n",
       "    <tr>\n",
       "      <th>9</th>\n",
       "      <td>HITMAN 3</td>\n",
       "      <td>2.73</td>\n",
       "      <td>63,570</td>\n",
       "      <td>1.9</td>\n",
       "      <td>25-30 hours</td>\n",
       "      <td>4.6</td>\n",
       "      <td>13 Mar 22</td>\n",
       "      <td>4202</td>\n",
       "      <td>1540</td>\n",
       "    </tr>\n",
       "  </tbody>\n",
       "</table>\n",
       "</div>"
      ],
      "text/plain": [
       "                                          GAME RATIO   GAMERS  COMP %  \\\n",
       "0                Mass Effect Legendary Edition  1.87   84,143     4.1   \n",
       "1  The Elder Scrolls V: Skyrim Special Edition  1.97  213,257     8.0   \n",
       "2                                Mass Effect 2  1.34  221,178     9.6   \n",
       "3                               Stardew Valley  3.04   51,530     1.0   \n",
       "4                                 It Takes Two  1.68   71,981    15.6   \n",
       "5                                        Hades  2.40   83,710     6.1   \n",
       "6    Resident Evil 7: Biohazard Grotesque Ver.  1.58      777     9.8   \n",
       "7                        Yakuza: Like a Dragon  2.13   39,229     3.8   \n",
       "8                              Forza Horizon 4  2.91  379,536     0.9   \n",
       "9                                     HITMAN 3  2.73   63,570     1.9   \n",
       "\n",
       "            TIME  RATING      ADDED  True_Achievement  Game_Score  \n",
       "0  100-120 hours     4.8  06 Jan 22              5442        2915  \n",
       "1   80-100 hours     4.7  15 Dec 20              3055        1550  \n",
       "2    50-60 hours     4.7  09 Nov 20              1819        1355  \n",
       "3  150-200 hours     4.7  02 Dec 21              3036        1000  \n",
       "4    12-15 hours     4.7  03 Nov 21              1678        1000  \n",
       "5    60-80 hours     4.6  18 Jun 21              2404        1000  \n",
       "6    15-20 hours     4.6  17 Sep 20              2560        1620  \n",
       "7   80-100 hours     4.6  13 Jun 21              2130        1000  \n",
       "8    60-80 hours     4.6  18 Dec 19             10516        3610  \n",
       "9    25-30 hours     4.6  13 Mar 22              4202        1540  "
      ]
     },
     "execution_count": 514,
     "metadata": {},
     "output_type": "execute_result"
    }
   ],
   "source": [
    "# This is a quick way to get the column names\n",
    "# df.columns\n",
    "\n",
    "'''\n",
    "Definition of columns:\n",
    "Game: Name of the game\n",
    "Ratio: This column is made with True Achievement column and game score column\n",
    "Gamers: Amount of players\n",
    "Comp %: Percentage of players that completed the game\n",
    "Time: Time required for completition\n",
    "Rating: Rating out of 5\n",
    "Date: Date in which the game was added to the GamePass\n",
    "True_Achievement: The total reachable amount of points a player can get in the game\n",
    "Game_Score: The points that the player achieved\n",
    "'''\n",
    "\n",
    "# Here I am getting the head\n",
    "df.head(10)"
   ]
  },
  {
   "cell_type": "code",
   "execution_count": 515,
   "id": "336d246e",
   "metadata": {},
   "outputs": [
    {
     "data": {
      "text/plain": [
       "'\\nData wrangling will include:\\n1. Deleting the NaN values from the dataset\\n2. Renaming the columns into: - DONE\\n    + Game\\n    + Ratio\\n    + Players\\n    + AvgCompleted\\n    + Time\\n    + Rating\\n    + Date\\n    + MaxGameScore\\n    + AvgGameScore\\n3. The average from the minimum an maximum time will supplant the Time column\\n4. Get rid of Date as it is not going to be useful\\n5. Convert all numeric values from string to float\\n'"
      ]
     },
     "execution_count": 515,
     "metadata": {},
     "output_type": "execute_result"
    }
   ],
   "source": [
    "'''\n",
    "Data wrangling will include:\n",
    "1. Deleting the NaN values from the dataset\n",
    "2. Renaming the columns into: - DONE\n",
    "    + Game\n",
    "    + Ratio\n",
    "    + Players\n",
    "    + AvgCompleted\n",
    "    + Time\n",
    "    + Rating\n",
    "    + Date\n",
    "    + MaxGameScore\n",
    "    + AvgGameScore\n",
    "3. The average from the minimum an maximum time will supplant the Time column\n",
    "4. Get rid of Date as it is not going to be useful\n",
    "5. Convert all numeric values from string to float\n",
    "'''"
   ]
  },
  {
   "cell_type": "code",
   "execution_count": 516,
   "id": "7002a1f8",
   "metadata": {},
   "outputs": [],
   "source": [
    "# 1. Deleting the NaN values from the dataset\n",
    "df.dropna(inplace = True)"
   ]
  },
  {
   "cell_type": "code",
   "execution_count": 517,
   "id": "d40e49e3",
   "metadata": {},
   "outputs": [],
   "source": [
    "# 2. Renaming of columns - DONE\n",
    "df.columns = ['Game', 'Ratio', 'Players', 'AvgCompleted', 'Time', 'Rating', 'Date', 'MaxGameScore', 'AvgGameScore']\n",
    "# df.columns"
   ]
  },
  {
   "cell_type": "code",
   "execution_count": 518,
   "id": "ff8f48d6",
   "metadata": {},
   "outputs": [],
   "source": [
    "# 3. The average from the minimum an maximum time will supplant the Time column\n",
    "\n",
    "# We first need to in a new dataframe save the data separed by the -\n",
    "timeAvg = df[\"Time\"].str.split(\"-\", n = 1, expand = True)\n",
    "\n",
    "# Then we rename the columns\n",
    "timeAvg.columns = ['A', 'B']\n",
    "\n",
    "# Here we are extracting the digits from each columns to make sure we are only with numbers\n",
    "df['A'] = timeAvg.A.str.extract('(\\d+)')\n",
    "df['B'] = timeAvg.B.str.extract('(\\d+)')\n",
    "\n",
    "df.dropna(inplace = True)\n",
    "\n",
    "df[['A', 'B']] = df[['A', 'B']].astype(float)\n",
    "\n",
    "df['Time'] = df[['A','B']].mean(axis=1)\n",
    "\n",
    "df = df.drop(['A', 'B'], axis=1)\n",
    "\n",
    "# df"
   ]
  },
  {
   "cell_type": "code",
   "execution_count": 519,
   "id": "ee229e6a",
   "metadata": {},
   "outputs": [],
   "source": [
    "# 4. Get rid of the date column as it is not going to be used\n",
    "df = df.drop(['Date'], axis=1)\n",
    "# df"
   ]
  },
  {
   "cell_type": "code",
   "execution_count": 520,
   "id": "588ecce2",
   "metadata": {},
   "outputs": [],
   "source": [
    "# 5. Convert all numeric columns's values from string to float\n",
    "\n",
    "# First we replace all , for . in players\n",
    "df['Players'] = df['Players'].replace(',', '.', regex=True)\n",
    "\n",
    "# Then we parse into a float type\n",
    "df[['Players', 'Ratio', 'AvgCompleted', 'Rating', 'MaxGameScore', 'AvgGameScore']] = df[['Players', 'Ratio', 'AvgCompleted', 'Rating', 'MaxGameScore', 'AvgGameScore']].astype(float)\n",
    "\n",
    "#df.head()"
   ]
  },
  {
   "cell_type": "code",
   "execution_count": 521,
   "id": "6acb011b",
   "metadata": {},
   "outputs": [
    {
     "data": {
      "text/plain": [
       "'\\nLineal regression model:\\n1. Y: Players X: Rating, Ratio\\n2. Y: Completed X: Time, Ratio\\n\\nSteps:\\n1. Correlation Matrix \\n'"
      ]
     },
     "execution_count": 521,
     "metadata": {},
     "output_type": "execute_result"
    }
   ],
   "source": [
    "'''\n",
    "Lineal regression model:\n",
    "1. Y: Players X: Rating, Ratio\n",
    "2. Y: Completed X: Time, Ratio\n",
    "\n",
    "Steps:\n",
    "1. Correlation Matrix \n",
    "'''"
   ]
  },
  {
   "cell_type": "code",
   "execution_count": 522,
   "id": "e127b45e",
   "metadata": {},
   "outputs": [
    {
     "data": {
      "text/html": [
       "<div>\n",
       "<style scoped>\n",
       "    .dataframe tbody tr th:only-of-type {\n",
       "        vertical-align: middle;\n",
       "    }\n",
       "\n",
       "    .dataframe tbody tr th {\n",
       "        vertical-align: top;\n",
       "    }\n",
       "\n",
       "    .dataframe thead th {\n",
       "        text-align: right;\n",
       "    }\n",
       "</style>\n",
       "<table border=\"1\" class=\"dataframe\">\n",
       "  <thead>\n",
       "    <tr style=\"text-align: right;\">\n",
       "      <th></th>\n",
       "      <th>Ratio</th>\n",
       "      <th>Players</th>\n",
       "      <th>AvgCompleted</th>\n",
       "      <th>Time</th>\n",
       "      <th>Rating</th>\n",
       "      <th>MaxGameScore</th>\n",
       "      <th>AvgGameScore</th>\n",
       "    </tr>\n",
       "  </thead>\n",
       "  <tbody>\n",
       "    <tr>\n",
       "      <th>Ratio</th>\n",
       "      <td>1.00</td>\n",
       "      <td>-0.15</td>\n",
       "      <td>-0.42</td>\n",
       "      <td>0.25</td>\n",
       "      <td>-0.23</td>\n",
       "      <td>0.71</td>\n",
       "      <td>0.11</td>\n",
       "    </tr>\n",
       "    <tr>\n",
       "      <th>Players</th>\n",
       "      <td>-0.15</td>\n",
       "      <td>1.00</td>\n",
       "      <td>-0.08</td>\n",
       "      <td>0.15</td>\n",
       "      <td>0.38</td>\n",
       "      <td>0.15</td>\n",
       "      <td>0.44</td>\n",
       "    </tr>\n",
       "    <tr>\n",
       "      <th>AvgCompleted</th>\n",
       "      <td>-0.42</td>\n",
       "      <td>-0.08</td>\n",
       "      <td>1.00</td>\n",
       "      <td>-0.29</td>\n",
       "      <td>-0.04</td>\n",
       "      <td>-0.34</td>\n",
       "      <td>-0.17</td>\n",
       "    </tr>\n",
       "    <tr>\n",
       "      <th>Time</th>\n",
       "      <td>0.25</td>\n",
       "      <td>0.15</td>\n",
       "      <td>-0.29</td>\n",
       "      <td>1.00</td>\n",
       "      <td>0.18</td>\n",
       "      <td>0.36</td>\n",
       "      <td>0.31</td>\n",
       "    </tr>\n",
       "    <tr>\n",
       "      <th>Rating</th>\n",
       "      <td>-0.23</td>\n",
       "      <td>0.38</td>\n",
       "      <td>-0.04</td>\n",
       "      <td>0.18</td>\n",
       "      <td>1.00</td>\n",
       "      <td>-0.02</td>\n",
       "      <td>0.23</td>\n",
       "    </tr>\n",
       "    <tr>\n",
       "      <th>MaxGameScore</th>\n",
       "      <td>0.71</td>\n",
       "      <td>0.15</td>\n",
       "      <td>-0.34</td>\n",
       "      <td>0.36</td>\n",
       "      <td>-0.02</td>\n",
       "      <td>1.00</td>\n",
       "      <td>0.72</td>\n",
       "    </tr>\n",
       "    <tr>\n",
       "      <th>AvgGameScore</th>\n",
       "      <td>0.11</td>\n",
       "      <td>0.44</td>\n",
       "      <td>-0.17</td>\n",
       "      <td>0.31</td>\n",
       "      <td>0.23</td>\n",
       "      <td>0.72</td>\n",
       "      <td>1.00</td>\n",
       "    </tr>\n",
       "  </tbody>\n",
       "</table>\n",
       "</div>"
      ],
      "text/plain": [
       "              Ratio  Players  AvgCompleted  Time  Rating  MaxGameScore  \\\n",
       "Ratio          1.00    -0.15         -0.42  0.25   -0.23          0.71   \n",
       "Players       -0.15     1.00         -0.08  0.15    0.38          0.15   \n",
       "AvgCompleted  -0.42    -0.08          1.00 -0.29   -0.04         -0.34   \n",
       "Time           0.25     0.15         -0.29  1.00    0.18          0.36   \n",
       "Rating        -0.23     0.38         -0.04  0.18    1.00         -0.02   \n",
       "MaxGameScore   0.71     0.15         -0.34  0.36   -0.02          1.00   \n",
       "AvgGameScore   0.11     0.44         -0.17  0.31    0.23          0.72   \n",
       "\n",
       "              AvgGameScore  \n",
       "Ratio                 0.11  \n",
       "Players               0.44  \n",
       "AvgCompleted         -0.17  \n",
       "Time                  0.31  \n",
       "Rating                0.23  \n",
       "MaxGameScore          0.72  \n",
       "AvgGameScore          1.00  "
      ]
     },
     "execution_count": 522,
     "metadata": {},
     "output_type": "execute_result"
    }
   ],
   "source": [
    "# We first have to create the correlation matrix to analyze if there are any values higher than .9\n",
    "correlation_matrix = df.corr().round(2)\n",
    "\n",
    "correlation_matrix"
   ]
  },
  {
   "cell_type": "code",
   "execution_count": 523,
   "id": "ba52a62c",
   "metadata": {
    "scrolled": true
   },
   "outputs": [
    {
     "data": {
      "text/plain": [
       "<AxesSubplot:>"
      ]
     },
     "execution_count": 523,
     "metadata": {},
     "output_type": "execute_result"
    },
    {
     "data": {
      "image/png": "[encoded data removed]",
      "text/plain": [
       "<Figure size 864x612 with 2 Axes>"
      ]
     },
     "metadata": {},
     "output_type": "display_data"
    }
   ],
   "source": [
    "# We can create a heat map to better visualize it\n",
    "sns.set(rc={'figure.figsize':(12,8.5)})\n",
    "sns.heatmap(data=correlation_matrix, annot=True)"
   ]
  },
  {
   "cell_type": "code",
   "execution_count": 524,
   "id": "9189ad9d",
   "metadata": {},
   "outputs": [],
   "source": [
    "# 1. Y: Players X: Rating, Ratio\n",
    "from sklearn.model_selection import train_test_split\n",
    "\n",
    "X = pd.DataFrame(np.c_[df['Rating'], df['Ratio']], columns = ['Rating','Ratio'])\n",
    "Y = df['Players']\n",
    "\n",
    "X_train, X_test, Y_train, Y_test = train_test_split(X, Y, test_size = 0.2, random_state=5)"
   ]
  },
  {
   "cell_type": "code",
   "execution_count": 525,
   "id": "eb6c1b16",
   "metadata": {},
   "outputs": [
    {
     "data": {
      "text/plain": [
       "LinearRegression()"
      ]
     },
     "execution_count": 525,
     "metadata": {},
     "output_type": "execute_result"
    }
   ],
   "source": [
    "from sklearn.linear_model import LinearRegression\n",
    "from sklearn.metrics import mean_squared_error, r2_score\n",
    "\n",
    "lin_model = LinearRegression()\n",
    "lin_model.fit(X_train, Y_train)"
   ]
  },
  {
   "cell_type": "code",
   "execution_count": 526,
   "id": "338b3f72",
   "metadata": {},
   "outputs": [
    {
     "name": "stdout",
     "output_type": "stream",
     "text": [
      "The model performance for training set\n",
      "--------------------------------------\n",
      "RMSE is 94.24248541138999\n",
      "R2 score is 0.16682590717314083\n",
      "\n",
      "\n",
      "The model performance for testing set\n",
      "--------------------------------------\n",
      "RMSE is 75.60603147861238\n",
      "R2 score is -0.11066762342459424\n"
     ]
    }
   ],
   "source": [
    "# Model Evaluation\n",
    "y_train_predict = lin_model.predict(X_train)\n",
    "rmse = (np.sqrt(mean_squared_error(Y_train, y_train_predict)))\n",
    "r2 = r2_score(Y_train, y_train_predict)\n",
    "\n",
    "print(\"The model performance for training set\")\n",
    "print(\"--------------------------------------\")\n",
    "print('RMSE is {}'.format(rmse))\n",
    "print('R2 score is {}'.format(r2))\n",
    "print(\"\\n\")\n",
    "\n",
    "# model evaluation for testing set\n",
    "\n",
    "y_test_predict = lin_model.predict(X_test)\n",
    "# root mean square error of the model\n",
    "rmse = (np.sqrt(mean_squared_error(Y_test, y_test_predict)))\n",
    "\n",
    "# r-squared score of the model\n",
    "r2 = r2_score(Y_test, y_test_predict)\n",
    "\n",
    "print(\"The model performance for testing set\")\n",
    "print(\"--------------------------------------\")\n",
    "print('RMSE is {}'.format(rmse))\n",
    "print('R2 score is {}'.format(r2))"
   ]
  },
  {
   "cell_type": "code",
   "execution_count": 527,
   "id": "c7741294",
   "metadata": {},
   "outputs": [
    {
     "data": {
      "text/html": [
       "<div>\n",
       "<style scoped>\n",
       "    .dataframe tbody tr th:only-of-type {\n",
       "        vertical-align: middle;\n",
       "    }\n",
       "\n",
       "    .dataframe tbody tr th {\n",
       "        vertical-align: top;\n",
       "    }\n",
       "\n",
       "    .dataframe thead th {\n",
       "        text-align: right;\n",
       "    }\n",
       "</style>\n",
       "<table border=\"1\" class=\"dataframe\">\n",
       "  <thead>\n",
       "    <tr style=\"text-align: right;\">\n",
       "      <th></th>\n",
       "      <th>Test</th>\n",
       "      <th>Pred</th>\n",
       "    </tr>\n",
       "  </thead>\n",
       "  <tbody>\n",
       "    <tr>\n",
       "      <th>0</th>\n",
       "      <td>102.053</td>\n",
       "      <td>108.621063</td>\n",
       "    </tr>\n",
       "    <tr>\n",
       "      <th>1</th>\n",
       "      <td>13.821</td>\n",
       "      <td>8.155393</td>\n",
       "    </tr>\n",
       "    <tr>\n",
       "      <th>2</th>\n",
       "      <td>331.579</td>\n",
       "      <td>141.092044</td>\n",
       "    </tr>\n",
       "    <tr>\n",
       "      <th>3</th>\n",
       "      <td>34.648</td>\n",
       "      <td>132.263961</td>\n",
       "    </tr>\n",
       "    <tr>\n",
       "      <th>4</th>\n",
       "      <td>44.019</td>\n",
       "      <td>95.165155</td>\n",
       "    </tr>\n",
       "    <tr>\n",
       "      <th>...</th>\n",
       "      <td>...</td>\n",
       "      <td>...</td>\n",
       "    </tr>\n",
       "    <tr>\n",
       "      <th>79</th>\n",
       "      <td>12.310</td>\n",
       "      <td>88.591623</td>\n",
       "    </tr>\n",
       "    <tr>\n",
       "      <th>80</th>\n",
       "      <td>57.467</td>\n",
       "      <td>61.397036</td>\n",
       "    </tr>\n",
       "    <tr>\n",
       "      <th>81</th>\n",
       "      <td>66.336</td>\n",
       "      <td>68.984935</td>\n",
       "    </tr>\n",
       "    <tr>\n",
       "      <th>82</th>\n",
       "      <td>156.431</td>\n",
       "      <td>59.420444</td>\n",
       "    </tr>\n",
       "    <tr>\n",
       "      <th>83</th>\n",
       "      <td>11.784</td>\n",
       "      <td>123.559415</td>\n",
       "    </tr>\n",
       "  </tbody>\n",
       "</table>\n",
       "<p>84 rows × 2 columns</p>\n",
       "</div>"
      ],
      "text/plain": [
       "       Test        Pred\n",
       "0   102.053  108.621063\n",
       "1    13.821    8.155393\n",
       "2   331.579  141.092044\n",
       "3    34.648  132.263961\n",
       "4    44.019   95.165155\n",
       "..      ...         ...\n",
       "79   12.310   88.591623\n",
       "80   57.467   61.397036\n",
       "81   66.336   68.984935\n",
       "82  156.431   59.420444\n",
       "83   11.784  123.559415\n",
       "\n",
       "[84 rows x 2 columns]"
      ]
     },
     "execution_count": 527,
     "metadata": {},
     "output_type": "execute_result"
    }
   ],
   "source": [
    "# Creación de DF para graficación y comprensión\n",
    "\n",
    "comp_t = pd.DataFrame({'Test': Y_test})\n",
    "comp_t.reindex(method='bfill')\n",
    "comp_t.index = range(comp_t.shape[0])\n",
    "comp_p = pd.DataFrame({'Pred': y_test_predict})\n",
    "\n",
    "#print(comp_t,round(comp_p,1))\n",
    "\n",
    "comp = pd.merge(comp_t,comp_p,left_index=True, right_index=True)\n",
    "comp"
   ]
  },
  {
   "cell_type": "code",
   "execution_count": 528,
   "id": "75d6b1fb",
   "metadata": {},
   "outputs": [
    {
     "data": {
      "text/plain": [
       "<seaborn.axisgrid.FacetGrid at 0x1f99a868c10>"
      ]
     },
     "execution_count": 528,
     "metadata": {},
     "output_type": "execute_result"
    },
    {
     "data": {
      "image/png": "[encoded data removed]",
      "text/plain": [
       "<Figure size 360x360 with 1 Axes>"
      ]
     },
     "metadata": {},
     "output_type": "display_data"
    }
   ],
   "source": [
    "sns.lmplot(x='Test',y='Pred',data=comp)"
   ]
  },
  {
   "cell_type": "code",
   "execution_count": null,
   "id": "42e55865",
   "metadata": {},
   "outputs": [],
   "source": []
  }
 ],
 "metadata": {
  "kernelspec": {
   "display_name": "Python 3 (ipykernel)",
   "language": "python",
   "name": "python3"
  },
  "language_info": {
   "codemirror_mode": {
    "name": "ipython",
    "version": 3
   },
   "file_extension": ".py",
   "mimetype": "text/x-python",
   "name": "python",
   "nbconvert_exporter": "python",
   "pygments_lexer": "ipython3",
   "version": "3.9.12"
  }
 },
 "nbformat": 4,
 "nbformat_minor": 5
}
