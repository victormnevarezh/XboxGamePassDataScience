{
 "cells": [
  {
   "cell_type": "code",
   "execution_count": 171,
   "id": "0e328a1e",
   "metadata": {},
   "outputs": [],
   "source": [
    "import numpy as np\n",
    "import matplotlib.pyplot as plt \n",
    "import pandas as pd  \n",
    "import seaborn as sns \n",
    "%matplotlib inline"
   ]
  },
  {
   "cell_type": "code",
   "execution_count": 172,
   "id": "31f971b3",
   "metadata": {},
   "outputs": [
    {
     "data": {
      "text/plain": [
       "{'encoding': 'utf-8', 'confidence': 0.938125, 'language': ''}"
      ]
     },
     "execution_count": 172,
     "metadata": {},
     "output_type": "execute_result"
    }
   ],
   "source": [
    "# In here we are getting the enconder\n",
    "import chardet\n",
    "file = 'U:\\XboxGamePassDataScience\\XboxGamePass.csv'\n",
    "with open(file, 'rb') as rawdata:\n",
    "    result = chardet.detect(rawdata.read(100000))\n",
    "result"
   ]
  },
  {
   "cell_type": "code",
   "execution_count": 173,
   "id": "0c38f30d",
   "metadata": {},
   "outputs": [],
   "source": [
    "# In here we are retreaving the csv's info and getting in into a DataFrame called df\n",
    "df = pd.read_csv(file, encoding='utf-8')\n",
    "# df"
   ]
  },
  {
   "cell_type": "code",
   "execution_count": 174,
   "id": "f546cefb",
   "metadata": {},
   "outputs": [],
   "source": [
    "# Here we conver a .csv into a parquetfile\n",
    "from fastparquet import ParquetFile\n",
    "parquet = df.to_parquet()\n",
    "# parquet\n",
    "# What is happening here?"
   ]
  },
  {
   "cell_type": "code",
   "execution_count": 175,
   "id": "8e43376d",
   "metadata": {},
   "outputs": [],
   "source": [
    "# Here we drop all rows that contain a type of NaN value\n",
    "# df.isnull().sum()\n",
    "df = df.dropna()\n",
    "# df"
   ]
  },
  {
   "cell_type": "code",
   "execution_count": 176,
   "id": "2d786e59",
   "metadata": {},
   "outputs": [
    {
     "data": {
      "text/html": [
       "<div>\n",
       "<style scoped>\n",
       "    .dataframe tbody tr th:only-of-type {\n",
       "        vertical-align: middle;\n",
       "    }\n",
       "\n",
       "    .dataframe tbody tr th {\n",
       "        vertical-align: top;\n",
       "    }\n",
       "\n",
       "    .dataframe thead th {\n",
       "        text-align: right;\n",
       "    }\n",
       "</style>\n",
       "<table border=\"1\" class=\"dataframe\">\n",
       "  <thead>\n",
       "    <tr style=\"text-align: right;\">\n",
       "      <th></th>\n",
       "      <th>GAME</th>\n",
       "      <th>RATIO</th>\n",
       "      <th>GAMERS</th>\n",
       "      <th>COMP %</th>\n",
       "      <th>TIME</th>\n",
       "      <th>RATING</th>\n",
       "      <th>ADDED</th>\n",
       "      <th>True_Achievement</th>\n",
       "      <th>Game_Score</th>\n",
       "    </tr>\n",
       "  </thead>\n",
       "  <tbody>\n",
       "    <tr>\n",
       "      <th>0</th>\n",
       "      <td>Mass Effect Legendary Edition</td>\n",
       "      <td>1.87</td>\n",
       "      <td>84,143</td>\n",
       "      <td>4.1</td>\n",
       "      <td>100-120 hours</td>\n",
       "      <td>4.8</td>\n",
       "      <td>06 Jan 22</td>\n",
       "      <td>5442</td>\n",
       "      <td>2915</td>\n",
       "    </tr>\n",
       "    <tr>\n",
       "      <th>1</th>\n",
       "      <td>The Elder Scrolls V: Skyrim Special Edition</td>\n",
       "      <td>1.97</td>\n",
       "      <td>213,257</td>\n",
       "      <td>8.0</td>\n",
       "      <td>80-100 hours</td>\n",
       "      <td>4.7</td>\n",
       "      <td>15 Dec 20</td>\n",
       "      <td>3055</td>\n",
       "      <td>1550</td>\n",
       "    </tr>\n",
       "    <tr>\n",
       "      <th>2</th>\n",
       "      <td>Mass Effect 2</td>\n",
       "      <td>1.34</td>\n",
       "      <td>221,178</td>\n",
       "      <td>9.6</td>\n",
       "      <td>50-60 hours</td>\n",
       "      <td>4.7</td>\n",
       "      <td>09 Nov 20</td>\n",
       "      <td>1819</td>\n",
       "      <td>1355</td>\n",
       "    </tr>\n",
       "    <tr>\n",
       "      <th>3</th>\n",
       "      <td>Stardew Valley</td>\n",
       "      <td>3.04</td>\n",
       "      <td>51,530</td>\n",
       "      <td>1.0</td>\n",
       "      <td>150-200 hours</td>\n",
       "      <td>4.7</td>\n",
       "      <td>02 Dec 21</td>\n",
       "      <td>3036</td>\n",
       "      <td>1000</td>\n",
       "    </tr>\n",
       "    <tr>\n",
       "      <th>4</th>\n",
       "      <td>It Takes Two</td>\n",
       "      <td>1.68</td>\n",
       "      <td>71,981</td>\n",
       "      <td>15.6</td>\n",
       "      <td>12-15 hours</td>\n",
       "      <td>4.7</td>\n",
       "      <td>03 Nov 21</td>\n",
       "      <td>1678</td>\n",
       "      <td>1000</td>\n",
       "    </tr>\n",
       "    <tr>\n",
       "      <th>5</th>\n",
       "      <td>Hades</td>\n",
       "      <td>2.40</td>\n",
       "      <td>83,710</td>\n",
       "      <td>6.1</td>\n",
       "      <td>60-80 hours</td>\n",
       "      <td>4.6</td>\n",
       "      <td>18 Jun 21</td>\n",
       "      <td>2404</td>\n",
       "      <td>1000</td>\n",
       "    </tr>\n",
       "    <tr>\n",
       "      <th>6</th>\n",
       "      <td>Resident Evil 7: Biohazard Grotesque Ver.</td>\n",
       "      <td>1.58</td>\n",
       "      <td>777</td>\n",
       "      <td>9.8</td>\n",
       "      <td>15-20 hours</td>\n",
       "      <td>4.6</td>\n",
       "      <td>17 Sep 20</td>\n",
       "      <td>2560</td>\n",
       "      <td>1620</td>\n",
       "    </tr>\n",
       "    <tr>\n",
       "      <th>7</th>\n",
       "      <td>Yakuza: Like a Dragon</td>\n",
       "      <td>2.13</td>\n",
       "      <td>39,229</td>\n",
       "      <td>3.8</td>\n",
       "      <td>80-100 hours</td>\n",
       "      <td>4.6</td>\n",
       "      <td>13 Jun 21</td>\n",
       "      <td>2130</td>\n",
       "      <td>1000</td>\n",
       "    </tr>\n",
       "    <tr>\n",
       "      <th>8</th>\n",
       "      <td>Forza Horizon 4</td>\n",
       "      <td>2.91</td>\n",
       "      <td>379,536</td>\n",
       "      <td>0.9</td>\n",
       "      <td>60-80 hours</td>\n",
       "      <td>4.6</td>\n",
       "      <td>18 Dec 19</td>\n",
       "      <td>10516</td>\n",
       "      <td>3610</td>\n",
       "    </tr>\n",
       "    <tr>\n",
       "      <th>9</th>\n",
       "      <td>HITMAN 3</td>\n",
       "      <td>2.73</td>\n",
       "      <td>63,570</td>\n",
       "      <td>1.9</td>\n",
       "      <td>25-30 hours</td>\n",
       "      <td>4.6</td>\n",
       "      <td>13 Mar 22</td>\n",
       "      <td>4202</td>\n",
       "      <td>1540</td>\n",
       "    </tr>\n",
       "  </tbody>\n",
       "</table>\n",
       "</div>"
      ],
      "text/plain": [
       "                                          GAME RATIO   GAMERS  COMP %  \\\n",
       "0                Mass Effect Legendary Edition  1.87   84,143     4.1   \n",
       "1  The Elder Scrolls V: Skyrim Special Edition  1.97  213,257     8.0   \n",
       "2                                Mass Effect 2  1.34  221,178     9.6   \n",
       "3                               Stardew Valley  3.04   51,530     1.0   \n",
       "4                                 It Takes Two  1.68   71,981    15.6   \n",
       "5                                        Hades  2.40   83,710     6.1   \n",
       "6    Resident Evil 7: Biohazard Grotesque Ver.  1.58      777     9.8   \n",
       "7                        Yakuza: Like a Dragon  2.13   39,229     3.8   \n",
       "8                              Forza Horizon 4  2.91  379,536     0.9   \n",
       "9                                     HITMAN 3  2.73   63,570     1.9   \n",
       "\n",
       "            TIME  RATING      ADDED  True_Achievement  Game_Score  \n",
       "0  100-120 hours     4.8  06 Jan 22              5442        2915  \n",
       "1   80-100 hours     4.7  15 Dec 20              3055        1550  \n",
       "2    50-60 hours     4.7  09 Nov 20              1819        1355  \n",
       "3  150-200 hours     4.7  02 Dec 21              3036        1000  \n",
       "4    12-15 hours     4.7  03 Nov 21              1678        1000  \n",
       "5    60-80 hours     4.6  18 Jun 21              2404        1000  \n",
       "6    15-20 hours     4.6  17 Sep 20              2560        1620  \n",
       "7   80-100 hours     4.6  13 Jun 21              2130        1000  \n",
       "8    60-80 hours     4.6  18 Dec 19             10516        3610  \n",
       "9    25-30 hours     4.6  13 Mar 22              4202        1540  "
      ]
     },
     "execution_count": 176,
     "metadata": {},
     "output_type": "execute_result"
    }
   ],
   "source": [
    "# This is a quick way to get the column names\n",
    "# df.columns\n",
    "\n",
    "'''\n",
    "Definition of columns:\n",
    "Game: Name of the game\n",
    "Ratio: This column is made with MaxGameScore column and game score column\n",
    "Gamers: Amount of players\n",
    "Comp %: Percentage of players that completed the game\n",
    "Time: Time required for completition\n",
    "Rating: Rating out of 5\n",
    "Date: Date in which the game was added to the GamePass\n",
    "True_Achievement: The total reachable amount of points a player can get in the game\n",
    "Game_Score: The points that the player achieved\n",
    "'''\n",
    "\n",
    "# Here I am getting the head\n",
    "df.head(10)"
   ]
  },
  {
   "cell_type": "code",
   "execution_count": 177,
   "id": "336d246e",
   "metadata": {},
   "outputs": [
    {
     "data": {
      "text/plain": [
       "'\\nData wrangling will include:\\n1. Deleting the NaN values from the dataset\\n2. Renaming the columns into: - DONE\\n    + Game\\n    + Ratio\\n    + Players\\n    + AvgCompleted\\n    + Time\\n    + Rating\\n    + Date\\n    + MaxGameScore\\n    + AvgGameScore\\n3. The average from the minimum an maximum time will supplant the Time column\\n4. Get rid of Date as it is not going to be useful\\n5. Convert all numeric values from string to float\\n6. Change the ratio, insted of being MaxGameScore/AvgGameScore it will become AvgGameScore/MaxGameScore\\n'"
      ]
     },
     "execution_count": 177,
     "metadata": {},
     "output_type": "execute_result"
    }
   ],
   "source": [
    "'''\n",
    "Data wrangling will include:\n",
    "1. Deleting the NaN values from the dataset\n",
    "2. Renaming the columns into: - DONE\n",
    "    + Game\n",
    "    + Ratio\n",
    "    + Players\n",
    "    + AvgCompleted\n",
    "    + Time\n",
    "    + Rating\n",
    "    + Date\n",
    "    + MaxGameScore\n",
    "    + AvgGameScore\n",
    "3. The average from the minimum an maximum time will supplant the Time column\n",
    "4. Get rid of Date as it is not going to be useful\n",
    "5. Convert all numeric values from string to float\n",
    "6. Change the ratio, insted of being MaxGameScore/AvgGameScore it will become AvgGameScore/MaxGameScore\n",
    "'''"
   ]
  },
  {
   "cell_type": "code",
   "execution_count": 178,
   "id": "7002a1f8",
   "metadata": {},
   "outputs": [],
   "source": [
    "# 1. Deleting the NaN values from the dataset\n",
    "df.dropna(inplace = True)"
   ]
  },
  {
   "cell_type": "code",
   "execution_count": 179,
   "id": "d40e49e3",
   "metadata": {},
   "outputs": [],
   "source": [
    "# 2. Renaming of columns - DONE\n",
    "df.columns = ['Game', 'Ratio', 'Players', 'AvgCompleted', 'Time', 'Rating', 'Date', 'MaxGameScore', 'AvgGameScore']\n",
    "# df.columns"
   ]
  },
  {
   "cell_type": "code",
   "execution_count": 180,
   "id": "ff8f48d6",
   "metadata": {},
   "outputs": [],
   "source": [
    "# 3. The average from the minimum an maximum time will supplant the Time column\n",
    "\n",
    "# We first need to in a new dataframe save the data separed by the -\n",
    "timeAvg = df[\"Time\"].str.split(\"-\", n = 1, expand = True)\n",
    "\n",
    "# Then we rename the columns\n",
    "timeAvg.columns = ['A', 'B']\n",
    "\n",
    "# Here we are extracting the digits from each columns to make sure we are only with numbers\n",
    "df['A'] = timeAvg.A.str.extract('(\\d+)')\n",
    "df['B'] = timeAvg.B.str.extract('(\\d+)')\n",
    "\n",
    "df.dropna(inplace = True)\n",
    "\n",
    "df[['A', 'B']] = df[['A', 'B']].astype(float)\n",
    "\n",
    "df['Time'] = df[['A','B']].mean(axis=1)\n",
    "\n",
    "df = df.drop(['A', 'B'], axis=1)\n",
    "\n",
    "# df"
   ]
  },
  {
   "cell_type": "code",
   "execution_count": 181,
   "id": "ee229e6a",
   "metadata": {},
   "outputs": [
    {
     "data": {
      "text/html": [
       "<div>\n",
       "<style scoped>\n",
       "    .dataframe tbody tr th:only-of-type {\n",
       "        vertical-align: middle;\n",
       "    }\n",
       "\n",
       "    .dataframe tbody tr th {\n",
       "        vertical-align: top;\n",
       "    }\n",
       "\n",
       "    .dataframe thead th {\n",
       "        text-align: right;\n",
       "    }\n",
       "</style>\n",
       "<table border=\"1\" class=\"dataframe\">\n",
       "  <thead>\n",
       "    <tr style=\"text-align: right;\">\n",
       "      <th></th>\n",
       "      <th>Game</th>\n",
       "      <th>Ratio</th>\n",
       "      <th>Players</th>\n",
       "      <th>AvgCompleted</th>\n",
       "      <th>Time</th>\n",
       "      <th>Rating</th>\n",
       "      <th>MaxGameScore</th>\n",
       "      <th>AvgGameScore</th>\n",
       "    </tr>\n",
       "  </thead>\n",
       "  <tbody>\n",
       "    <tr>\n",
       "      <th>0</th>\n",
       "      <td>Mass Effect Legendary Edition</td>\n",
       "      <td>1.87</td>\n",
       "      <td>84,143</td>\n",
       "      <td>4.1</td>\n",
       "      <td>110.0</td>\n",
       "      <td>4.8</td>\n",
       "      <td>5442</td>\n",
       "      <td>2915</td>\n",
       "    </tr>\n",
       "    <tr>\n",
       "      <th>1</th>\n",
       "      <td>The Elder Scrolls V: Skyrim Special Edition</td>\n",
       "      <td>1.97</td>\n",
       "      <td>213,257</td>\n",
       "      <td>8.0</td>\n",
       "      <td>90.0</td>\n",
       "      <td>4.7</td>\n",
       "      <td>3055</td>\n",
       "      <td>1550</td>\n",
       "    </tr>\n",
       "    <tr>\n",
       "      <th>2</th>\n",
       "      <td>Mass Effect 2</td>\n",
       "      <td>1.34</td>\n",
       "      <td>221,178</td>\n",
       "      <td>9.6</td>\n",
       "      <td>55.0</td>\n",
       "      <td>4.7</td>\n",
       "      <td>1819</td>\n",
       "      <td>1355</td>\n",
       "    </tr>\n",
       "    <tr>\n",
       "      <th>3</th>\n",
       "      <td>Stardew Valley</td>\n",
       "      <td>3.04</td>\n",
       "      <td>51,530</td>\n",
       "      <td>1.0</td>\n",
       "      <td>175.0</td>\n",
       "      <td>4.7</td>\n",
       "      <td>3036</td>\n",
       "      <td>1000</td>\n",
       "    </tr>\n",
       "    <tr>\n",
       "      <th>4</th>\n",
       "      <td>It Takes Two</td>\n",
       "      <td>1.68</td>\n",
       "      <td>71,981</td>\n",
       "      <td>15.6</td>\n",
       "      <td>13.5</td>\n",
       "      <td>4.7</td>\n",
       "      <td>1678</td>\n",
       "      <td>1000</td>\n",
       "    </tr>\n",
       "    <tr>\n",
       "      <th>...</th>\n",
       "      <td>...</td>\n",
       "      <td>...</td>\n",
       "      <td>...</td>\n",
       "      <td>...</td>\n",
       "      <td>...</td>\n",
       "      <td>...</td>\n",
       "      <td>...</td>\n",
       "      <td>...</td>\n",
       "    </tr>\n",
       "    <tr>\n",
       "      <th>440</th>\n",
       "      <td>Paradise Killer</td>\n",
       "      <td>1.57</td>\n",
       "      <td>1,250</td>\n",
       "      <td>18.0</td>\n",
       "      <td>13.5</td>\n",
       "      <td>4.2</td>\n",
       "      <td>1565</td>\n",
       "      <td>1000</td>\n",
       "    </tr>\n",
       "    <tr>\n",
       "      <th>445</th>\n",
       "      <td>Super Mega Baseball 3</td>\n",
       "      <td>7.96</td>\n",
       "      <td>9,309</td>\n",
       "      <td>0.1</td>\n",
       "      <td>70.0</td>\n",
       "      <td>3.8</td>\n",
       "      <td>7957</td>\n",
       "      <td>1000</td>\n",
       "    </tr>\n",
       "    <tr>\n",
       "      <th>446</th>\n",
       "      <td>Immortal Realms: Vampire Wars</td>\n",
       "      <td>4.76</td>\n",
       "      <td>5,618</td>\n",
       "      <td>0.9</td>\n",
       "      <td>70.0</td>\n",
       "      <td>3.5</td>\n",
       "      <td>4761</td>\n",
       "      <td>1000</td>\n",
       "    </tr>\n",
       "    <tr>\n",
       "      <th>447</th>\n",
       "      <td>Transformers: Battlegrounds</td>\n",
       "      <td>2.40</td>\n",
       "      <td>1,733</td>\n",
       "      <td>1.0</td>\n",
       "      <td>17.5</td>\n",
       "      <td>3.1</td>\n",
       "      <td>2873</td>\n",
       "      <td>1195</td>\n",
       "    </tr>\n",
       "    <tr>\n",
       "      <th>450</th>\n",
       "      <td>Lethal League Blaze</td>\n",
       "      <td>3.91</td>\n",
       "      <td>4,509</td>\n",
       "      <td>1.6</td>\n",
       "      <td>17.5</td>\n",
       "      <td>3.6</td>\n",
       "      <td>3905</td>\n",
       "      <td>1000</td>\n",
       "    </tr>\n",
       "  </tbody>\n",
       "</table>\n",
       "<p>416 rows × 8 columns</p>\n",
       "</div>"
      ],
      "text/plain": [
       "                                            Game Ratio  Players  AvgCompleted  \\\n",
       "0                  Mass Effect Legendary Edition  1.87   84,143           4.1   \n",
       "1    The Elder Scrolls V: Skyrim Special Edition  1.97  213,257           8.0   \n",
       "2                                  Mass Effect 2  1.34  221,178           9.6   \n",
       "3                                 Stardew Valley  3.04   51,530           1.0   \n",
       "4                                   It Takes Two  1.68   71,981          15.6   \n",
       "..                                           ...   ...      ...           ...   \n",
       "440                              Paradise Killer  1.57    1,250          18.0   \n",
       "445                        Super Mega Baseball 3  7.96    9,309           0.1   \n",
       "446                Immortal Realms: Vampire Wars  4.76    5,618           0.9   \n",
       "447                  Transformers: Battlegrounds  2.40    1,733           1.0   \n",
       "450                          Lethal League Blaze  3.91    4,509           1.6   \n",
       "\n",
       "      Time  Rating  MaxGameScore  AvgGameScore  \n",
       "0    110.0     4.8          5442          2915  \n",
       "1     90.0     4.7          3055          1550  \n",
       "2     55.0     4.7          1819          1355  \n",
       "3    175.0     4.7          3036          1000  \n",
       "4     13.5     4.7          1678          1000  \n",
       "..     ...     ...           ...           ...  \n",
       "440   13.5     4.2          1565          1000  \n",
       "445   70.0     3.8          7957          1000  \n",
       "446   70.0     3.5          4761          1000  \n",
       "447   17.5     3.1          2873          1195  \n",
       "450   17.5     3.6          3905          1000  \n",
       "\n",
       "[416 rows x 8 columns]"
      ]
     },
     "execution_count": 181,
     "metadata": {},
     "output_type": "execute_result"
    }
   ],
   "source": [
    "# 4. Get rid of the date column as it is not going to be used\n",
    "df = df.drop(['Date'], axis=1)\n",
    "df"
   ]
  },
  {
   "cell_type": "code",
   "execution_count": 182,
   "id": "588ecce2",
   "metadata": {},
   "outputs": [],
   "source": [
    "# 5. Convert all numeric columns's values from string to float\n",
    "\n",
    "# First we replace all , for . in players\n",
    "df['Players'] = df['Players'].replace(',', '', regex=True)\n",
    "\n",
    "# Then we parse into a float type\n",
    "df[['Players', 'Ratio', 'AvgCompleted', 'Rating', 'MaxGameScore', 'AvgGameScore']] = df[['Players', 'Ratio', 'AvgCompleted', 'Rating', 'MaxGameScore', 'AvgGameScore']].astype(float)\n",
    "\n",
    "# df.head()"
   ]
  },
  {
   "cell_type": "code",
   "execution_count": 183,
   "id": "879b0d00",
   "metadata": {},
   "outputs": [
    {
     "data": {
      "text/html": [
       "<div>\n",
       "<style scoped>\n",
       "    .dataframe tbody tr th:only-of-type {\n",
       "        vertical-align: middle;\n",
       "    }\n",
       "\n",
       "    .dataframe tbody tr th {\n",
       "        vertical-align: top;\n",
       "    }\n",
       "\n",
       "    .dataframe thead th {\n",
       "        text-align: right;\n",
       "    }\n",
       "</style>\n",
       "<table border=\"1\" class=\"dataframe\">\n",
       "  <thead>\n",
       "    <tr style=\"text-align: right;\">\n",
       "      <th></th>\n",
       "      <th>Game</th>\n",
       "      <th>Ratio</th>\n",
       "      <th>Players</th>\n",
       "      <th>AvgCompleted</th>\n",
       "      <th>Time</th>\n",
       "      <th>Rating</th>\n",
       "      <th>MaxGameScore</th>\n",
       "      <th>AvgGameScore</th>\n",
       "    </tr>\n",
       "  </thead>\n",
       "  <tbody>\n",
       "    <tr>\n",
       "      <th>0</th>\n",
       "      <td>Mass Effect Legendary Edition</td>\n",
       "      <td>0.535649</td>\n",
       "      <td>84143.0</td>\n",
       "      <td>4.1</td>\n",
       "      <td>110.0</td>\n",
       "      <td>4.8</td>\n",
       "      <td>5442.0</td>\n",
       "      <td>2915.0</td>\n",
       "    </tr>\n",
       "    <tr>\n",
       "      <th>1</th>\n",
       "      <td>The Elder Scrolls V: Skyrim Special Edition</td>\n",
       "      <td>0.507365</td>\n",
       "      <td>213257.0</td>\n",
       "      <td>8.0</td>\n",
       "      <td>90.0</td>\n",
       "      <td>4.7</td>\n",
       "      <td>3055.0</td>\n",
       "      <td>1550.0</td>\n",
       "    </tr>\n",
       "    <tr>\n",
       "      <th>2</th>\n",
       "      <td>Mass Effect 2</td>\n",
       "      <td>0.744915</td>\n",
       "      <td>221178.0</td>\n",
       "      <td>9.6</td>\n",
       "      <td>55.0</td>\n",
       "      <td>4.7</td>\n",
       "      <td>1819.0</td>\n",
       "      <td>1355.0</td>\n",
       "    </tr>\n",
       "    <tr>\n",
       "      <th>3</th>\n",
       "      <td>Stardew Valley</td>\n",
       "      <td>0.329381</td>\n",
       "      <td>51530.0</td>\n",
       "      <td>1.0</td>\n",
       "      <td>175.0</td>\n",
       "      <td>4.7</td>\n",
       "      <td>3036.0</td>\n",
       "      <td>1000.0</td>\n",
       "    </tr>\n",
       "    <tr>\n",
       "      <th>4</th>\n",
       "      <td>It Takes Two</td>\n",
       "      <td>0.595948</td>\n",
       "      <td>71981.0</td>\n",
       "      <td>15.6</td>\n",
       "      <td>13.5</td>\n",
       "      <td>4.7</td>\n",
       "      <td>1678.0</td>\n",
       "      <td>1000.0</td>\n",
       "    </tr>\n",
       "  </tbody>\n",
       "</table>\n",
       "</div>"
      ],
      "text/plain": [
       "                                          Game     Ratio   Players  \\\n",
       "0                Mass Effect Legendary Edition  0.535649   84143.0   \n",
       "1  The Elder Scrolls V: Skyrim Special Edition  0.507365  213257.0   \n",
       "2                                Mass Effect 2  0.744915  221178.0   \n",
       "3                               Stardew Valley  0.329381   51530.0   \n",
       "4                                 It Takes Two  0.595948   71981.0   \n",
       "\n",
       "   AvgCompleted   Time  Rating  MaxGameScore  AvgGameScore  \n",
       "0           4.1  110.0     4.8        5442.0        2915.0  \n",
       "1           8.0   90.0     4.7        3055.0        1550.0  \n",
       "2           9.6   55.0     4.7        1819.0        1355.0  \n",
       "3           1.0  175.0     4.7        3036.0        1000.0  \n",
       "4          15.6   13.5     4.7        1678.0        1000.0  "
      ]
     },
     "execution_count": 183,
     "metadata": {},
     "output_type": "execute_result"
    }
   ],
   "source": [
    "# 6. Change the ratio, insted of being MaxGameScore/AvgGameScore it will become AvgGameScore/MaxGameScore\n",
    "df['Ratio'] = df['AvgGameScore']/df['MaxGameScore']\n",
    "df.head()"
   ]
  },
  {
   "cell_type": "code",
   "execution_count": 184,
   "id": "70ccfde1",
   "metadata": {},
   "outputs": [],
   "source": [
    "dfCleaned = df"
   ]
  },
  {
   "cell_type": "code",
   "execution_count": 185,
   "id": "6acb011b",
   "metadata": {},
   "outputs": [
    {
     "data": {
      "text/plain": [
       "'\\nLineal Regression Models\\n'"
      ]
     },
     "execution_count": 185,
     "metadata": {},
     "output_type": "execute_result"
    }
   ],
   "source": [
    "'''\n",
    "Lineal Regression Models\n",
    "'''"
   ]
  },
  {
   "cell_type": "code",
   "execution_count": 186,
   "id": "e127b45e",
   "metadata": {},
   "outputs": [
    {
     "data": {
      "text/html": [
       "<div>\n",
       "<style scoped>\n",
       "    .dataframe tbody tr th:only-of-type {\n",
       "        vertical-align: middle;\n",
       "    }\n",
       "\n",
       "    .dataframe tbody tr th {\n",
       "        vertical-align: top;\n",
       "    }\n",
       "\n",
       "    .dataframe thead th {\n",
       "        text-align: right;\n",
       "    }\n",
       "</style>\n",
       "<table border=\"1\" class=\"dataframe\">\n",
       "  <thead>\n",
       "    <tr style=\"text-align: right;\">\n",
       "      <th></th>\n",
       "      <th>Ratio</th>\n",
       "      <th>Players</th>\n",
       "      <th>AvgCompleted</th>\n",
       "      <th>Time</th>\n",
       "      <th>Rating</th>\n",
       "      <th>MaxGameScore</th>\n",
       "      <th>AvgGameScore</th>\n",
       "    </tr>\n",
       "  </thead>\n",
       "  <tbody>\n",
       "    <tr>\n",
       "      <th>Ratio</th>\n",
       "      <td>1.00</td>\n",
       "      <td>0.09</td>\n",
       "      <td>0.78</td>\n",
       "      <td>-0.34</td>\n",
       "      <td>0.16</td>\n",
       "      <td>-0.59</td>\n",
       "      <td>-0.15</td>\n",
       "    </tr>\n",
       "    <tr>\n",
       "      <th>Players</th>\n",
       "      <td>0.09</td>\n",
       "      <td>1.00</td>\n",
       "      <td>-0.13</td>\n",
       "      <td>0.17</td>\n",
       "      <td>0.36</td>\n",
       "      <td>0.19</td>\n",
       "      <td>0.48</td>\n",
       "    </tr>\n",
       "    <tr>\n",
       "      <th>AvgCompleted</th>\n",
       "      <td>0.78</td>\n",
       "      <td>-0.13</td>\n",
       "      <td>1.00</td>\n",
       "      <td>-0.29</td>\n",
       "      <td>-0.04</td>\n",
       "      <td>-0.34</td>\n",
       "      <td>-0.17</td>\n",
       "    </tr>\n",
       "    <tr>\n",
       "      <th>Time</th>\n",
       "      <td>-0.34</td>\n",
       "      <td>0.17</td>\n",
       "      <td>-0.29</td>\n",
       "      <td>1.00</td>\n",
       "      <td>0.18</td>\n",
       "      <td>0.36</td>\n",
       "      <td>0.31</td>\n",
       "    </tr>\n",
       "    <tr>\n",
       "      <th>Rating</th>\n",
       "      <td>0.16</td>\n",
       "      <td>0.36</td>\n",
       "      <td>-0.04</td>\n",
       "      <td>0.18</td>\n",
       "      <td>1.00</td>\n",
       "      <td>-0.02</td>\n",
       "      <td>0.23</td>\n",
       "    </tr>\n",
       "    <tr>\n",
       "      <th>MaxGameScore</th>\n",
       "      <td>-0.59</td>\n",
       "      <td>0.19</td>\n",
       "      <td>-0.34</td>\n",
       "      <td>0.36</td>\n",
       "      <td>-0.02</td>\n",
       "      <td>1.00</td>\n",
       "      <td>0.72</td>\n",
       "    </tr>\n",
       "    <tr>\n",
       "      <th>AvgGameScore</th>\n",
       "      <td>-0.15</td>\n",
       "      <td>0.48</td>\n",
       "      <td>-0.17</td>\n",
       "      <td>0.31</td>\n",
       "      <td>0.23</td>\n",
       "      <td>0.72</td>\n",
       "      <td>1.00</td>\n",
       "    </tr>\n",
       "  </tbody>\n",
       "</table>\n",
       "</div>"
      ],
      "text/plain": [
       "              Ratio  Players  AvgCompleted  Time  Rating  MaxGameScore  \\\n",
       "Ratio          1.00     0.09          0.78 -0.34    0.16         -0.59   \n",
       "Players        0.09     1.00         -0.13  0.17    0.36          0.19   \n",
       "AvgCompleted   0.78    -0.13          1.00 -0.29   -0.04         -0.34   \n",
       "Time          -0.34     0.17         -0.29  1.00    0.18          0.36   \n",
       "Rating         0.16     0.36         -0.04  0.18    1.00         -0.02   \n",
       "MaxGameScore  -0.59     0.19         -0.34  0.36   -0.02          1.00   \n",
       "AvgGameScore  -0.15     0.48         -0.17  0.31    0.23          0.72   \n",
       "\n",
       "              AvgGameScore  \n",
       "Ratio                -0.15  \n",
       "Players               0.48  \n",
       "AvgCompleted         -0.17  \n",
       "Time                  0.31  \n",
       "Rating                0.23  \n",
       "MaxGameScore          0.72  \n",
       "AvgGameScore          1.00  "
      ]
     },
     "execution_count": 186,
     "metadata": {},
     "output_type": "execute_result"
    }
   ],
   "source": [
    "# We first have to create the correlation matrix to analyze if there are any values higher than .9\n",
    "correlation_matrix = df.corr().round(2)\n",
    "\n",
    "correlation_matrix"
   ]
  },
  {
   "cell_type": "code",
   "execution_count": 187,
   "id": "ba52a62c",
   "metadata": {
    "scrolled": true
   },
   "outputs": [
    {
     "data": {
      "text/plain": [
       "<AxesSubplot:>"
      ]
     },
     "execution_count": 187,
     "metadata": {},
     "output_type": "execute_result"
    },
    {
     "data": {
      "image/png": "[encoded data removed]",
      "text/plain": [
       "<Figure size 864x612 with 2 Axes>"
      ]
     },
     "metadata": {},
     "output_type": "display_data"
    }
   ],
   "source": [
    "# We can create a heat map to better visualize it\n",
    "sns.set(rc={'figure.figsize':(12,8.5)})\n",
    "sns.heatmap(data=correlation_matrix, annot=True)"
   ]
  },
  {
   "cell_type": "code",
   "execution_count": 188,
   "id": "9189ad9d",
   "metadata": {},
   "outputs": [],
   "source": [
    "# 1. Y: Players X: Rating, Ratio\n",
    "from sklearn.model_selection import train_test_split\n",
    "\n",
    "df.sort_values(by='Players', ascending=False)\n",
    "# df = df.head(100)\n",
    "\n",
    "# Players as Y\n",
    "# X = pd.DataFrame(np.c_[df['Rating'], df['Time'], df['MaxGameScore']], columns = ['Rating', 'Time', 'MaxGameScore'])\n",
    "# X = pd.DataFrame(np.c_[df['Rating'], df['Ratio']], columns = ['Rating','Ratio'])\n",
    "# X = pd.DataFrame(np.c_[df['Ratio'], df['Time']], columns = ['Ratio', 'Time'])\n",
    "# X = pd.DataFrame(np.c_[df['Rating'], df['Ratio'], df['Time']], columns = ['Rating','Ratio', 'Time'])\n",
    "# Y = df['Players']\n",
    "\n",
    "# Rating as Y\n",
    "Y = df['Rating']\n",
    "# X = pd.DataFrame(np.c_[df['Ratio'], df['Time']], columns = ['Ratio', 'Time'])\n",
    "X = pd.DataFrame(np.c_[df['Ratio'], df['Time'], df['Players']], columns = ['Ratio', 'Time', 'Players'])\n",
    "\n",
    "# Ratio as Y\n",
    "# X = pd.DataFrame(np.c_[df['Rating'], df['Time']], columns = ['Rating', 'Time'])\n",
    "# Y = df['Ratio']\n",
    "\n",
    "# Create train test split\n",
    "X_train, X_test, Y_train, Y_test = train_test_split(X, Y, test_size = 0.2, random_state=5)"
   ]
  },
  {
   "cell_type": "code",
   "execution_count": 189,
   "id": "27e3f294",
   "metadata": {},
   "outputs": [],
   "source": [
    "# Sort values depending of the amount of players\n",
    "# df.sort_values(by='Players', ascending=False)"
   ]
  },
  {
   "cell_type": "code",
   "execution_count": 190,
   "id": "eb6c1b16",
   "metadata": {},
   "outputs": [
    {
     "data": {
      "text/plain": [
       "LinearRegression()"
      ]
     },
     "execution_count": 190,
     "metadata": {},
     "output_type": "execute_result"
    }
   ],
   "source": [
    "from sklearn.linear_model import LinearRegression\n",
    "from sklearn.metrics import mean_squared_error, r2_score\n",
    "\n",
    "lin_model = LinearRegression()\n",
    "lin_model.fit(X_train, Y_train)"
   ]
  },
  {
   "cell_type": "code",
   "execution_count": 191,
   "id": "338b3f72",
   "metadata": {},
   "outputs": [
    {
     "name": "stdout",
     "output_type": "stream",
     "text": [
      "The model performance for training set\n",
      "--------------------------------------\n",
      "RMSE is 0.44468968059967423\n",
      "R2 score is 0.20622053537309082\n",
      "\n",
      "\n",
      "The model performance for testing set\n",
      "--------------------------------------\n",
      "RMSE is 0.5115027128323428\n",
      "R2 score is 0.025636792656729024\n"
     ]
    }
   ],
   "source": [
    "# Model Evaluation\n",
    "y_train_predict = lin_model.predict(X_train)\n",
    "rmse = (np.sqrt(mean_squared_error(Y_train, y_train_predict)))\n",
    "r2 = r2_score(Y_train, y_train_predict)\n",
    "\n",
    "print(\"The model performance for training set\")\n",
    "print(\"--------------------------------------\")\n",
    "print('RMSE is {}'.format(rmse))\n",
    "print('R2 score is {}'.format(r2))\n",
    "print(\"\\n\")\n",
    "\n",
    "# model evaluation for testing set\n",
    "\n",
    "y_test_predict = lin_model.predict(X_test)\n",
    "# root mean square error of the model\n",
    "rmse = (np.sqrt(mean_squared_error(Y_test, y_test_predict)))\n",
    "\n",
    "# r-squared score of the model\n",
    "r2 = r2_score(Y_test, y_test_predict)\n",
    "\n",
    "print(\"The model performance for testing set\")\n",
    "print(\"--------------------------------------\")\n",
    "print('RMSE is {}'.format(rmse))\n",
    "print('R2 score is {}'.format(r2))"
   ]
  },
  {
   "cell_type": "code",
   "execution_count": 192,
   "id": "c7741294",
   "metadata": {},
   "outputs": [],
   "source": [
    "# Creación de DF para graficación y comprensión\n",
    "\n",
    "comp_t = pd.DataFrame({'Test': Y_test})\n",
    "comp_t.reindex(method='bfill')\n",
    "comp_t.index = range(comp_t.shape[0])\n",
    "comp_p = pd.DataFrame({'Pred': y_test_predict})\n",
    "\n",
    "#print(comp_t,round(comp_p,1))\n",
    "\n",
    "comp = pd.merge(comp_t,comp_p,left_index=True, right_index=True)\n",
    "# comp"
   ]
  },
  {
   "cell_type": "code",
   "execution_count": 193,
   "id": "75d6b1fb",
   "metadata": {},
   "outputs": [
    {
     "data": {
      "text/plain": [
       "<seaborn.axisgrid.FacetGrid at 0x25f1a5886d0>"
      ]
     },
     "execution_count": 193,
     "metadata": {},
     "output_type": "execute_result"
    },
    {
     "data": {
      "image/png": "[encoded data removed]",
      "text/plain": [
       "<Figure size 360x360 with 1 Axes>"
      ]
     },
     "metadata": {},
     "output_type": "display_data"
    }
   ],
   "source": [
    "sns.lmplot(x='Test',y='Pred',data=comp)"
   ]
  },
  {
   "cell_type": "code",
   "execution_count": 194,
   "id": "269aefe7",
   "metadata": {},
   "outputs": [
    {
     "data": {
      "text/plain": [
       "'\\nLogistic Regression\\n'"
      ]
     },
     "execution_count": 194,
     "metadata": {},
     "output_type": "execute_result"
    }
   ],
   "source": [
    "'''\n",
    "Logistic Regression\n",
    "'''"
   ]
  },
  {
   "cell_type": "code",
   "execution_count": 195,
   "id": "3a435fef",
   "metadata": {},
   "outputs": [],
   "source": [
    "# We create a new dataframe\n",
    "dfLR = df"
   ]
  },
  {
   "cell_type": "code",
   "execution_count": 196,
   "id": "6a52a14e",
   "metadata": {},
   "outputs": [],
   "source": [
    "# Careful to only run this operation once\n",
    "dfLR['Rating'].where((dfLR['Rating'] > 3.5), 0, inplace=True)\n",
    "dfLR['Rating'].where(dfLR['Rating'] <= 3.5, 1, inplace=True)"
   ]
  },
  {
   "cell_type": "code",
   "execution_count": 197,
   "id": "ac04a3cc",
   "metadata": {},
   "outputs": [],
   "source": [
    "# dfLR[\"Rating\"] = np.sign(df[\"Rating\"]).astype(int)\n",
    "# dfLR['Rating'].head(50)\n",
    "# criteria = dfLR[dfLR['Rating'] == 1]\n",
    "# criteria"
   ]
  },
  {
   "cell_type": "code",
   "execution_count": 198,
   "id": "66afa69b",
   "metadata": {},
   "outputs": [
    {
     "data": {
      "text/html": [
       "<div>\n",
       "<style scoped>\n",
       "    .dataframe tbody tr th:only-of-type {\n",
       "        vertical-align: middle;\n",
       "    }\n",
       "\n",
       "    .dataframe tbody tr th {\n",
       "        vertical-align: top;\n",
       "    }\n",
       "\n",
       "    .dataframe thead th {\n",
       "        text-align: right;\n",
       "    }\n",
       "</style>\n",
       "<table border=\"1\" class=\"dataframe\">\n",
       "  <thead>\n",
       "    <tr style=\"text-align: right;\">\n",
       "      <th></th>\n",
       "      <th>Ratio</th>\n",
       "      <th>Time</th>\n",
       "      <th>Players</th>\n",
       "    </tr>\n",
       "  </thead>\n",
       "  <tbody>\n",
       "    <tr>\n",
       "      <th>344</th>\n",
       "      <td>0.307787</td>\n",
       "      <td>9.0</td>\n",
       "      <td>39947.0</td>\n",
       "    </tr>\n",
       "    <tr>\n",
       "      <th>72</th>\n",
       "      <td>0.326052</td>\n",
       "      <td>17.5</td>\n",
       "      <td>64288.0</td>\n",
       "    </tr>\n",
       "    <tr>\n",
       "      <th>45</th>\n",
       "      <td>0.404040</td>\n",
       "      <td>110.0</td>\n",
       "      <td>372829.0</td>\n",
       "    </tr>\n",
       "    <tr>\n",
       "      <th>173</th>\n",
       "      <td>0.453515</td>\n",
       "      <td>90.0</td>\n",
       "      <td>179302.0</td>\n",
       "    </tr>\n",
       "    <tr>\n",
       "      <th>281</th>\n",
       "      <td>0.634518</td>\n",
       "      <td>7.0</td>\n",
       "      <td>26704.0</td>\n",
       "    </tr>\n",
       "    <tr>\n",
       "      <th>...</th>\n",
       "      <td>...</td>\n",
       "      <td>...</td>\n",
       "      <td>...</td>\n",
       "    </tr>\n",
       "    <tr>\n",
       "      <th>95</th>\n",
       "      <td>0.452899</td>\n",
       "      <td>22.5</td>\n",
       "      <td>8940.0</td>\n",
       "    </tr>\n",
       "    <tr>\n",
       "      <th>32</th>\n",
       "      <td>0.334038</td>\n",
       "      <td>22.5</td>\n",
       "      <td>218613.0</td>\n",
       "    </tr>\n",
       "    <tr>\n",
       "      <th>380</th>\n",
       "      <td>0.332779</td>\n",
       "      <td>17.5</td>\n",
       "      <td>82740.0</td>\n",
       "    </tr>\n",
       "    <tr>\n",
       "      <th>131</th>\n",
       "      <td>0.376506</td>\n",
       "      <td>70.0</td>\n",
       "      <td>142174.0</td>\n",
       "    </tr>\n",
       "    <tr>\n",
       "      <th>414</th>\n",
       "      <td>0.415942</td>\n",
       "      <td>17.5</td>\n",
       "      <td>1733.0</td>\n",
       "    </tr>\n",
       "  </tbody>\n",
       "</table>\n",
       "<p>332 rows × 3 columns</p>\n",
       "</div>"
      ],
      "text/plain": [
       "        Ratio   Time   Players\n",
       "344  0.307787    9.0   39947.0\n",
       "72   0.326052   17.5   64288.0\n",
       "45   0.404040  110.0  372829.0\n",
       "173  0.453515   90.0  179302.0\n",
       "281  0.634518    7.0   26704.0\n",
       "..        ...    ...       ...\n",
       "95   0.452899   22.5    8940.0\n",
       "32   0.334038   22.5  218613.0\n",
       "380  0.332779   17.5   82740.0\n",
       "131  0.376506   70.0  142174.0\n",
       "414  0.415942   17.5    1733.0\n",
       "\n",
       "[332 rows x 3 columns]"
      ]
     },
     "execution_count": 198,
     "metadata": {},
     "output_type": "execute_result"
    }
   ],
   "source": [
    "# Variable output\n",
    "y = dfLR['Rating']\n",
    "# Variable inputs\n",
    "X = pd.DataFrame(np.c_[dfLR['Ratio'], dfLR['Time'], dfLR['Players']], columns = ['Ratio', 'Time', 'Players'])\n",
    "\n",
    "# We create the train test split\n",
    "X_train, X_test, y_train, y_test = train_test_split(X, y, test_size=0.20, random_state=45)\n",
    "\n",
    "X_train"
   ]
  },
  {
   "cell_type": "code",
   "execution_count": null,
   "id": "d0015968",
   "metadata": {},
   "outputs": [],
   "source": []
  },
  {
   "cell_type": "code",
   "execution_count": 199,
   "id": "30119827",
   "metadata": {},
   "outputs": [],
   "source": [
    "# We import the model for Logistic Regression\n",
    "from sklearn.linear_model import LogisticRegression\n",
    "\n",
    "# We create an empty model\n",
    "log_model = LogisticRegression()\n",
    "# We train the model with 80% of the available data\n",
    "log_model.fit(X_train,y_train)\n",
    "# We use the available 20% for test\n",
    "y_pred = log_model.predict(X_test)"
   ]
  },
  {
   "cell_type": "code",
   "execution_count": 200,
   "id": "8154645f",
   "metadata": {},
   "outputs": [
    {
     "data": {
      "text/html": [
       "<div>\n",
       "<style scoped>\n",
       "    .dataframe tbody tr th:only-of-type {\n",
       "        vertical-align: middle;\n",
       "    }\n",
       "\n",
       "    .dataframe tbody tr th {\n",
       "        vertical-align: top;\n",
       "    }\n",
       "\n",
       "    .dataframe thead th {\n",
       "        text-align: right;\n",
       "    }\n",
       "</style>\n",
       "<table border=\"1\" class=\"dataframe\">\n",
       "  <thead>\n",
       "    <tr style=\"text-align: right;\">\n",
       "      <th></th>\n",
       "      <th>Test</th>\n",
       "      <th>Pred</th>\n",
       "    </tr>\n",
       "  </thead>\n",
       "  <tbody>\n",
       "    <tr>\n",
       "      <th>0</th>\n",
       "      <td>0.0</td>\n",
       "      <td>1.0</td>\n",
       "    </tr>\n",
       "    <tr>\n",
       "      <th>1</th>\n",
       "      <td>1.0</td>\n",
       "      <td>1.0</td>\n",
       "    </tr>\n",
       "    <tr>\n",
       "      <th>2</th>\n",
       "      <td>0.0</td>\n",
       "      <td>1.0</td>\n",
       "    </tr>\n",
       "    <tr>\n",
       "      <th>3</th>\n",
       "      <td>0.0</td>\n",
       "      <td>1.0</td>\n",
       "    </tr>\n",
       "    <tr>\n",
       "      <th>4</th>\n",
       "      <td>0.0</td>\n",
       "      <td>1.0</td>\n",
       "    </tr>\n",
       "    <tr>\n",
       "      <th>...</th>\n",
       "      <td>...</td>\n",
       "      <td>...</td>\n",
       "    </tr>\n",
       "    <tr>\n",
       "      <th>79</th>\n",
       "      <td>1.0</td>\n",
       "      <td>1.0</td>\n",
       "    </tr>\n",
       "    <tr>\n",
       "      <th>80</th>\n",
       "      <td>1.0</td>\n",
       "      <td>1.0</td>\n",
       "    </tr>\n",
       "    <tr>\n",
       "      <th>81</th>\n",
       "      <td>1.0</td>\n",
       "      <td>1.0</td>\n",
       "    </tr>\n",
       "    <tr>\n",
       "      <th>82</th>\n",
       "      <td>1.0</td>\n",
       "      <td>1.0</td>\n",
       "    </tr>\n",
       "    <tr>\n",
       "      <th>83</th>\n",
       "      <td>0.0</td>\n",
       "      <td>1.0</td>\n",
       "    </tr>\n",
       "  </tbody>\n",
       "</table>\n",
       "<p>84 rows × 2 columns</p>\n",
       "</div>"
      ],
      "text/plain": [
       "    Test  Pred\n",
       "0    0.0   1.0\n",
       "1    1.0   1.0\n",
       "2    0.0   1.0\n",
       "3    0.0   1.0\n",
       "4    0.0   1.0\n",
       "..   ...   ...\n",
       "79   1.0   1.0\n",
       "80   1.0   1.0\n",
       "81   1.0   1.0\n",
       "82   1.0   1.0\n",
       "83   0.0   1.0\n",
       "\n",
       "[84 rows x 2 columns]"
      ]
     },
     "execution_count": 200,
     "metadata": {},
     "output_type": "execute_result"
    }
   ],
   "source": [
    "comp_t = pd.DataFrame({'Test': y_test})\n",
    "comp_t.reindex(method='bfill')\n",
    "comp_t.index = range(comp_t.shape[0])\n",
    "comp_p = pd.DataFrame({'Pred': y_pred})\n",
    "\n",
    "#print(comp_t,round(comp_p,1))\n",
    "\n",
    "comp = pd.merge(comp_t,comp_p,left_index=True, right_index=True)\n",
    "comp"
   ]
  },
  {
   "cell_type": "code",
   "execution_count": 201,
   "id": "f80fdcca",
   "metadata": {},
   "outputs": [
    {
     "data": {
      "text/plain": [
       "<seaborn.axisgrid.FacetGrid at 0x25f120a8c10>"
      ]
     },
     "execution_count": 201,
     "metadata": {},
     "output_type": "execute_result"
    },
    {
     "data": {
      "image/png": "[encoded data removed]",
      "text/plain": [
       "<Figure size 414.975x360 with 1 Axes>"
      ]
     },
     "metadata": {},
     "output_type": "display_data"
    }
   ],
   "source": [
    "# Graficar Datos Prueba vs Datos Predictivos\n",
    "import seaborn as sns\n",
    "\n",
    "sns.relplot(x='Test',y='Pred',data=comp, hue=\"Pred\")"
   ]
  },
  {
   "cell_type": "code",
   "execution_count": 202,
   "id": "2d1489f3",
   "metadata": {},
   "outputs": [],
   "source": [
    "# import for the confusion matrix\n",
    "from sklearn.metrics import confusion_matrix\n",
    "# Create confusion matrix\n",
    "cmatrix = confusion_matrix(y_test, y_pred)\n",
    "np.set_printoptions(precision=2)"
   ]
  },
  {
   "cell_type": "code",
   "execution_count": 203,
   "id": "2ecae59c",
   "metadata": {},
   "outputs": [
    {
     "name": "stdout",
     "output_type": "stream",
     "text": [
      "True Negatives:  0\n",
      "False Positives:  32\n",
      "False Negatives:  0\n",
      "True Positives:  52\n"
     ]
    }
   ],
   "source": [
    "# Extract values from the confusion matrix\n",
    "tn, fp, fn, tp = confusion_matrix(y_test, y_pred).ravel()\n",
    "print(\"True Negatives: \",tn)\n",
    "print(\"False Positives: \",fp)\n",
    "print(\"False Negatives: \",fn)\n",
    "print(\"True Positives: \",tp)"
   ]
  },
  {
   "cell_type": "code",
   "execution_count": 204,
   "id": "1261cf0f",
   "metadata": {},
   "outputs": [
    {
     "name": "stdout",
     "output_type": "stream",
     "text": [
      "Accuracy 61.90%\n"
     ]
    }
   ],
   "source": [
    "# Accuracy (%) \n",
    "Accuracy = (tn+tp)*100/(tp+tn+fp+fn) \n",
    "\n",
    "print(\"Accuracy {:0.2f}%\".format(Accuracy))"
   ]
  },
  {
   "cell_type": "code",
   "execution_count": 205,
   "id": "75792434",
   "metadata": {},
   "outputs": [
    {
     "name": "stdout",
     "output_type": "stream",
     "text": [
      "Precision 0.62\n"
     ]
    }
   ],
   "source": [
    "# Precision\n",
    "Precision = tp/(tp+fp) \n",
    "print(\"Precision {:0.2f}\".format(Precision))"
   ]
  },
  {
   "cell_type": "code",
   "execution_count": 206,
   "id": "9e9985e3",
   "metadata": {},
   "outputs": [
    {
     "name": "stdout",
     "output_type": "stream",
     "text": [
      "Specificity 0.00\n"
     ]
    }
   ],
   "source": [
    "# Specificity \n",
    "\n",
    "Specificity = tn/(tn+fp)\n",
    "print(\"Specificity {:0.2f}\".format(Specificity))"
   ]
  },
  {
   "cell_type": "code",
   "execution_count": 207,
   "id": "37805e0c",
   "metadata": {},
   "outputs": [
    {
     "data": {
      "text/html": [
       "<div>\n",
       "<style scoped>\n",
       "    .dataframe tbody tr th:only-of-type {\n",
       "        vertical-align: middle;\n",
       "    }\n",
       "\n",
       "    .dataframe tbody tr th {\n",
       "        vertical-align: top;\n",
       "    }\n",
       "\n",
       "    .dataframe thead th {\n",
       "        text-align: right;\n",
       "    }\n",
       "</style>\n",
       "<table border=\"1\" class=\"dataframe\">\n",
       "  <thead>\n",
       "    <tr style=\"text-align: right;\">\n",
       "      <th></th>\n",
       "      <th>Ratio</th>\n",
       "      <th>Time</th>\n",
       "      <th>Players</th>\n",
       "    </tr>\n",
       "  </thead>\n",
       "  <tbody>\n",
       "    <tr>\n",
       "      <th>375</th>\n",
       "      <td>0.124069</td>\n",
       "      <td>70.0</td>\n",
       "      <td>8295.0</td>\n",
       "    </tr>\n",
       "    <tr>\n",
       "      <th>217</th>\n",
       "      <td>0.343171</td>\n",
       "      <td>22.5</td>\n",
       "      <td>34917.0</td>\n",
       "    </tr>\n",
       "    <tr>\n",
       "      <th>277</th>\n",
       "      <td>0.539665</td>\n",
       "      <td>7.0</td>\n",
       "      <td>17010.0</td>\n",
       "    </tr>\n",
       "    <tr>\n",
       "      <th>334</th>\n",
       "      <td>0.294031</td>\n",
       "      <td>45.0</td>\n",
       "      <td>156431.0</td>\n",
       "    </tr>\n",
       "    <tr>\n",
       "      <th>353</th>\n",
       "      <td>0.132396</td>\n",
       "      <td>135.0</td>\n",
       "      <td>127983.0</td>\n",
       "    </tr>\n",
       "    <tr>\n",
       "      <th>...</th>\n",
       "      <td>...</td>\n",
       "      <td>...</td>\n",
       "      <td>...</td>\n",
       "    </tr>\n",
       "    <tr>\n",
       "      <th>197</th>\n",
       "      <td>0.203791</td>\n",
       "      <td>37.5</td>\n",
       "      <td>28059.0</td>\n",
       "    </tr>\n",
       "    <tr>\n",
       "      <th>33</th>\n",
       "      <td>0.479157</td>\n",
       "      <td>45.0</td>\n",
       "      <td>94070.0</td>\n",
       "    </tr>\n",
       "    <tr>\n",
       "      <th>76</th>\n",
       "      <td>0.416204</td>\n",
       "      <td>45.0</td>\n",
       "      <td>153757.0</td>\n",
       "    </tr>\n",
       "    <tr>\n",
       "      <th>166</th>\n",
       "      <td>0.214938</td>\n",
       "      <td>70.0</td>\n",
       "      <td>276487.0</td>\n",
       "    </tr>\n",
       "    <tr>\n",
       "      <th>285</th>\n",
       "      <td>0.182315</td>\n",
       "      <td>250.0</td>\n",
       "      <td>66336.0</td>\n",
       "    </tr>\n",
       "  </tbody>\n",
       "</table>\n",
       "<p>84 rows × 3 columns</p>\n",
       "</div>"
      ],
      "text/plain": [
       "        Ratio   Time   Players\n",
       "375  0.124069   70.0    8295.0\n",
       "217  0.343171   22.5   34917.0\n",
       "277  0.539665    7.0   17010.0\n",
       "334  0.294031   45.0  156431.0\n",
       "353  0.132396  135.0  127983.0\n",
       "..        ...    ...       ...\n",
       "197  0.203791   37.5   28059.0\n",
       "33   0.479157   45.0   94070.0\n",
       "76   0.416204   45.0  153757.0\n",
       "166  0.214938   70.0  276487.0\n",
       "285  0.182315  250.0   66336.0\n",
       "\n",
       "[84 rows x 3 columns]"
      ]
     },
     "execution_count": 207,
     "metadata": {},
     "output_type": "execute_result"
    }
   ],
   "source": [
    "X_test"
   ]
  },
  {
   "cell_type": "code",
   "execution_count": 208,
   "id": "ae08d0c2",
   "metadata": {},
   "outputs": [
    {
     "ename": "IndexError",
     "evalue": "too many indices for array: array is 1-dimensional, but 2 were indexed",
     "output_type": "error",
     "traceback": [
      "\u001b[1;31m---------------------------------------------------------------------------\u001b[0m",
      "\u001b[1;31mIndexError\u001b[0m                                Traceback (most recent call last)",
      "Input \u001b[1;32mIn [208]\u001b[0m, in \u001b[0;36m<cell line: 6>\u001b[1;34m()\u001b[0m\n\u001b[0;32m      3\u001b[0m y_pred_proba \u001b[38;5;241m=\u001b[39m lin_model\u001b[38;5;241m.\u001b[39mpredict(X_test)\n\u001b[0;32m      5\u001b[0m \u001b[38;5;66;03m# Compare prediction against training\u001b[39;00m\n\u001b[1;32m----> 6\u001b[0m \u001b[43mskplt\u001b[49m\u001b[38;5;241;43m.\u001b[39;49m\u001b[43mmetrics\u001b[49m\u001b[38;5;241;43m.\u001b[39;49m\u001b[43mplot_roc\u001b[49m\u001b[43m(\u001b[49m\u001b[43my_test\u001b[49m\u001b[43m,\u001b[49m\u001b[43m \u001b[49m\u001b[43my_pred_proba\u001b[49m\u001b[43m)\u001b[49m\n\u001b[0;32m      8\u001b[0m plt\u001b[38;5;241m.\u001b[39mshow()\n",
      "File \u001b[1;32mD:\\Programas\\Anaconda\\lib\\site-packages\\scikitplot\\metrics.py:414\u001b[0m, in \u001b[0;36mplot_roc\u001b[1;34m(y_true, y_probas, title, plot_micro, plot_macro, classes_to_plot, ax, figsize, cmap, title_fontsize, text_fontsize)\u001b[0m\n\u001b[0;32m    412\u001b[0m indices_to_plot \u001b[38;5;241m=\u001b[39m np\u001b[38;5;241m.\u001b[39min1d(classes, classes_to_plot)\n\u001b[0;32m    413\u001b[0m \u001b[38;5;28;01mfor\u001b[39;00m i, to_plot \u001b[38;5;129;01min\u001b[39;00m \u001b[38;5;28menumerate\u001b[39m(indices_to_plot):\n\u001b[1;32m--> 414\u001b[0m     fpr_dict[i], tpr_dict[i], _ \u001b[38;5;241m=\u001b[39m roc_curve(y_true, \u001b[43mprobas\u001b[49m\u001b[43m[\u001b[49m\u001b[43m:\u001b[49m\u001b[43m,\u001b[49m\u001b[43m \u001b[49m\u001b[43mi\u001b[49m\u001b[43m]\u001b[49m,\n\u001b[0;32m    415\u001b[0m                                             pos_label\u001b[38;5;241m=\u001b[39mclasses[i])\n\u001b[0;32m    416\u001b[0m     \u001b[38;5;28;01mif\u001b[39;00m to_plot:\n\u001b[0;32m    417\u001b[0m         roc_auc \u001b[38;5;241m=\u001b[39m auc(fpr_dict[i], tpr_dict[i])\n",
      "\u001b[1;31mIndexError\u001b[0m: too many indices for array: array is 1-dimensional, but 2 were indexed"
     ]
    },
    {
     "data": {
      "image/png": "[encoded data removed]",
      "text/plain": [
       "<Figure size 864x612 with 1 Axes>"
      ]
     },
     "metadata": {},
     "output_type": "display_data"
    }
   ],
   "source": [
    "import scikitplot as skplt\n",
    "\n",
    "y_pred_proba = lin_model.predict(X_test)\n",
    "\n",
    "# Compare prediction against training\n",
    "skplt.metrics.plot_roc(y_test, y_pred_proba)\n",
    "\n",
    "plt.show()"
   ]
  }
 ],
 "metadata": {
  "kernelspec": {
   "display_name": "Python 3 (ipykernel)",
   "language": "python",
   "name": "python3"
  },
  "language_info": {
   "codemirror_mode": {
    "name": "ipython",
    "version": 3
   },
   "file_extension": ".py",
   "mimetype": "text/x-python",
   "name": "python",
   "nbconvert_exporter": "python",
   "pygments_lexer": "ipython3",
   "version": "3.9.12"
  }
 },
 "nbformat": 4,
 "nbformat_minor": 5
}
