{
 "cells": [
  {
   "cell_type": "code",
   "execution_count": 470,
   "id": "0e328a1e",
   "metadata": {},
   "outputs": [],
   "source": [
    "import numpy as np\n",
    "import matplotlib.pyplot as plt \n",
    "import pandas as pd  \n",
    "import seaborn as sns \n",
    "%matplotlib inline"
   ]
  },
  {
   "cell_type": "code",
   "execution_count": 471,
   "id": "31f971b3",
   "metadata": {},
   "outputs": [
    {
     "data": {
      "text/plain": [
       "{'encoding': 'utf-8', 'confidence': 0.938125, 'language': ''}"
      ]
     },
     "execution_count": 471,
     "metadata": {},
     "output_type": "execute_result"
    }
   ],
   "source": [
    "# In here we are getting the enconder\n",
    "import chardet\n",
    "file = 'U:\\XboxGamePassDataScience\\XboxGamePass.csv'\n",
    "with open(file, 'rb') as rawdata:\n",
    "    result = chardet.detect(rawdata.read(100000))\n",
    "result"
   ]
  },
  {
   "cell_type": "code",
   "execution_count": 472,
   "id": "0c38f30d",
   "metadata": {},
   "outputs": [],
   "source": [
    "# In here we are retreaving the csv's info and getting in into a DataFrame called df\n",
    "df = pd.read_csv(file, encoding='utf-8')\n",
    "# df"
   ]
  },
  {
   "cell_type": "code",
   "execution_count": 473,
   "id": "f546cefb",
   "metadata": {},
   "outputs": [],
   "source": [
    "# Here we conver a .csv into a parquetfile\n",
    "from fastparquet import ParquetFile\n",
    "parquet = df.to_parquet()\n",
    "# parquet\n",
    "# What is happening here?"
   ]
  },
  {
   "cell_type": "code",
   "execution_count": 474,
   "id": "8e43376d",
   "metadata": {},
   "outputs": [],
   "source": [
    "# Here we drop all rows that contain a type of NaN value\n",
    "# df.isnull().sum()\n",
    "df = df.dropna()\n",
    "# df"
   ]
  },
  {
   "cell_type": "code",
   "execution_count": 475,
   "id": "2d786e59",
   "metadata": {},
   "outputs": [
    {
     "data": {
      "text/html": [
       "<div>\n",
       "<style scoped>\n",
       "    .dataframe tbody tr th:only-of-type {\n",
       "        vertical-align: middle;\n",
       "    }\n",
       "\n",
       "    .dataframe tbody tr th {\n",
       "        vertical-align: top;\n",
       "    }\n",
       "\n",
       "    .dataframe thead th {\n",
       "        text-align: right;\n",
       "    }\n",
       "</style>\n",
       "<table border=\"1\" class=\"dataframe\">\n",
       "  <thead>\n",
       "    <tr style=\"text-align: right;\">\n",
       "      <th></th>\n",
       "      <th>GAME</th>\n",
       "      <th>RATIO</th>\n",
       "      <th>GAMERS</th>\n",
       "      <th>COMP %</th>\n",
       "      <th>TIME</th>\n",
       "      <th>RATING</th>\n",
       "      <th>ADDED</th>\n",
       "      <th>True_Achievement</th>\n",
       "      <th>Game_Score</th>\n",
       "    </tr>\n",
       "  </thead>\n",
       "  <tbody>\n",
       "    <tr>\n",
       "      <th>0</th>\n",
       "      <td>Mass Effect Legendary Edition</td>\n",
       "      <td>1.87</td>\n",
       "      <td>84,143</td>\n",
       "      <td>4.1</td>\n",
       "      <td>100-120 hours</td>\n",
       "      <td>4.8</td>\n",
       "      <td>06 Jan 22</td>\n",
       "      <td>5442</td>\n",
       "      <td>2915</td>\n",
       "    </tr>\n",
       "    <tr>\n",
       "      <th>1</th>\n",
       "      <td>The Elder Scrolls V: Skyrim Special Edition</td>\n",
       "      <td>1.97</td>\n",
       "      <td>213,257</td>\n",
       "      <td>8.0</td>\n",
       "      <td>80-100 hours</td>\n",
       "      <td>4.7</td>\n",
       "      <td>15 Dec 20</td>\n",
       "      <td>3055</td>\n",
       "      <td>1550</td>\n",
       "    </tr>\n",
       "    <tr>\n",
       "      <th>2</th>\n",
       "      <td>Mass Effect 2</td>\n",
       "      <td>1.34</td>\n",
       "      <td>221,178</td>\n",
       "      <td>9.6</td>\n",
       "      <td>50-60 hours</td>\n",
       "      <td>4.7</td>\n",
       "      <td>09 Nov 20</td>\n",
       "      <td>1819</td>\n",
       "      <td>1355</td>\n",
       "    </tr>\n",
       "    <tr>\n",
       "      <th>3</th>\n",
       "      <td>Stardew Valley</td>\n",
       "      <td>3.04</td>\n",
       "      <td>51,530</td>\n",
       "      <td>1.0</td>\n",
       "      <td>150-200 hours</td>\n",
       "      <td>4.7</td>\n",
       "      <td>02 Dec 21</td>\n",
       "      <td>3036</td>\n",
       "      <td>1000</td>\n",
       "    </tr>\n",
       "    <tr>\n",
       "      <th>4</th>\n",
       "      <td>It Takes Two</td>\n",
       "      <td>1.68</td>\n",
       "      <td>71,981</td>\n",
       "      <td>15.6</td>\n",
       "      <td>12-15 hours</td>\n",
       "      <td>4.7</td>\n",
       "      <td>03 Nov 21</td>\n",
       "      <td>1678</td>\n",
       "      <td>1000</td>\n",
       "    </tr>\n",
       "    <tr>\n",
       "      <th>5</th>\n",
       "      <td>Hades</td>\n",
       "      <td>2.40</td>\n",
       "      <td>83,710</td>\n",
       "      <td>6.1</td>\n",
       "      <td>60-80 hours</td>\n",
       "      <td>4.6</td>\n",
       "      <td>18 Jun 21</td>\n",
       "      <td>2404</td>\n",
       "      <td>1000</td>\n",
       "    </tr>\n",
       "    <tr>\n",
       "      <th>6</th>\n",
       "      <td>Resident Evil 7: Biohazard Grotesque Ver.</td>\n",
       "      <td>1.58</td>\n",
       "      <td>777</td>\n",
       "      <td>9.8</td>\n",
       "      <td>15-20 hours</td>\n",
       "      <td>4.6</td>\n",
       "      <td>17 Sep 20</td>\n",
       "      <td>2560</td>\n",
       "      <td>1620</td>\n",
       "    </tr>\n",
       "    <tr>\n",
       "      <th>7</th>\n",
       "      <td>Yakuza: Like a Dragon</td>\n",
       "      <td>2.13</td>\n",
       "      <td>39,229</td>\n",
       "      <td>3.8</td>\n",
       "      <td>80-100 hours</td>\n",
       "      <td>4.6</td>\n",
       "      <td>13 Jun 21</td>\n",
       "      <td>2130</td>\n",
       "      <td>1000</td>\n",
       "    </tr>\n",
       "    <tr>\n",
       "      <th>8</th>\n",
       "      <td>Forza Horizon 4</td>\n",
       "      <td>2.91</td>\n",
       "      <td>379,536</td>\n",
       "      <td>0.9</td>\n",
       "      <td>60-80 hours</td>\n",
       "      <td>4.6</td>\n",
       "      <td>18 Dec 19</td>\n",
       "      <td>10516</td>\n",
       "      <td>3610</td>\n",
       "    </tr>\n",
       "    <tr>\n",
       "      <th>9</th>\n",
       "      <td>HITMAN 3</td>\n",
       "      <td>2.73</td>\n",
       "      <td>63,570</td>\n",
       "      <td>1.9</td>\n",
       "      <td>25-30 hours</td>\n",
       "      <td>4.6</td>\n",
       "      <td>13 Mar 22</td>\n",
       "      <td>4202</td>\n",
       "      <td>1540</td>\n",
       "    </tr>\n",
       "  </tbody>\n",
       "</table>\n",
       "</div>"
      ],
      "text/plain": [
       "                                          GAME RATIO   GAMERS  COMP %  \\\n",
       "0                Mass Effect Legendary Edition  1.87   84,143     4.1   \n",
       "1  The Elder Scrolls V: Skyrim Special Edition  1.97  213,257     8.0   \n",
       "2                                Mass Effect 2  1.34  221,178     9.6   \n",
       "3                               Stardew Valley  3.04   51,530     1.0   \n",
       "4                                 It Takes Two  1.68   71,981    15.6   \n",
       "5                                        Hades  2.40   83,710     6.1   \n",
       "6    Resident Evil 7: Biohazard Grotesque Ver.  1.58      777     9.8   \n",
       "7                        Yakuza: Like a Dragon  2.13   39,229     3.8   \n",
       "8                              Forza Horizon 4  2.91  379,536     0.9   \n",
       "9                                     HITMAN 3  2.73   63,570     1.9   \n",
       "\n",
       "            TIME  RATING      ADDED  True_Achievement  Game_Score  \n",
       "0  100-120 hours     4.8  06 Jan 22              5442        2915  \n",
       "1   80-100 hours     4.7  15 Dec 20              3055        1550  \n",
       "2    50-60 hours     4.7  09 Nov 20              1819        1355  \n",
       "3  150-200 hours     4.7  02 Dec 21              3036        1000  \n",
       "4    12-15 hours     4.7  03 Nov 21              1678        1000  \n",
       "5    60-80 hours     4.6  18 Jun 21              2404        1000  \n",
       "6    15-20 hours     4.6  17 Sep 20              2560        1620  \n",
       "7   80-100 hours     4.6  13 Jun 21              2130        1000  \n",
       "8    60-80 hours     4.6  18 Dec 19             10516        3610  \n",
       "9    25-30 hours     4.6  13 Mar 22              4202        1540  "
      ]
     },
     "execution_count": 475,
     "metadata": {},
     "output_type": "execute_result"
    }
   ],
   "source": [
    "# This is a quick way to get the column names\n",
    "# df.columns\n",
    "\n",
    "'''\n",
    "Definition of columns:\n",
    "Game: Name of the game\n",
    "Ratio: This column is made with MaxGameScore column and game score column\n",
    "Gamers: Amount of players\n",
    "Comp %: Percentage of players that completed the game\n",
    "Time: Time required for completition\n",
    "Rating: Rating out of 5\n",
    "Date: Date in which the game was added to the GamePass\n",
    "True_Achievement: The total reachable amount of points a player can get in the game\n",
    "Game_Score: The points that the player achieved\n",
    "'''\n",
    "\n",
    "# Here I am getting the head\n",
    "df.head(10)"
   ]
  },
  {
   "cell_type": "code",
   "execution_count": 476,
   "id": "336d246e",
   "metadata": {},
   "outputs": [
    {
     "data": {
      "text/plain": [
       "'\\nData wrangling will include:\\n1. Deleting the NaN values from the dataset\\n2. Renaming the columns into: - DONE\\n    + Game\\n    + Ratio\\n    + Players\\n    + AvgCompleted\\n    + Time\\n    + Rating\\n    + Date\\n    + MaxGameScore\\n    + AvgGameScore\\n3. The average from the minimum an maximum time will supplant the Time column\\n4. Get rid of Date as it is not going to be useful\\n5. Convert all numeric values from string to float\\n6. Change the ratio, insted of being MaxGameScore/AvgGameScore it will become AvgGameScore/MaxGameScore\\n'"
      ]
     },
     "execution_count": 476,
     "metadata": {},
     "output_type": "execute_result"
    }
   ],
   "source": [
    "'''\n",
    "Data wrangling will include:\n",
    "1. Deleting the NaN values from the dataset\n",
    "2. Renaming the columns into: - DONE\n",
    "    + Game\n",
    "    + Ratio\n",
    "    + Players\n",
    "    + AvgCompleted\n",
    "    + Time\n",
    "    + Rating\n",
    "    + Date\n",
    "    + MaxGameScore\n",
    "    + AvgGameScore\n",
    "3. The average from the minimum an maximum time will supplant the Time column\n",
    "4. Get rid of Date as it is not going to be useful\n",
    "5. Convert all numeric values from string to float\n",
    "6. Change the ratio, insted of being MaxGameScore/AvgGameScore it will become AvgGameScore/MaxGameScore\n",
    "'''"
   ]
  },
  {
   "cell_type": "code",
   "execution_count": 477,
   "id": "7002a1f8",
   "metadata": {},
   "outputs": [],
   "source": [
    "# 1. Deleting the NaN values from the dataset\n",
    "df.dropna(inplace = True)"
   ]
  },
  {
   "cell_type": "code",
   "execution_count": 478,
   "id": "d40e49e3",
   "metadata": {},
   "outputs": [],
   "source": [
    "# 2. Renaming of columns - DONE\n",
    "df.columns = ['Game', 'Ratio', 'Players', 'AvgCompleted', 'Time', 'Rating', 'Date', 'MaxGameScore', 'AvgGameScore']\n",
    "# df.columns"
   ]
  },
  {
   "cell_type": "code",
   "execution_count": 479,
   "id": "ff8f48d6",
   "metadata": {},
   "outputs": [],
   "source": [
    "# 3. The average from the minimum an maximum time will supplant the Time column\n",
    "\n",
    "# We first need to in a new dataframe save the data separed by the -\n",
    "timeAvg = df[\"Time\"].str.split(\"-\", n = 1, expand = True)\n",
    "\n",
    "# Then we rename the columns\n",
    "timeAvg.columns = ['A', 'B']\n",
    "\n",
    "# Here we are extracting the digits from each columns to make sure we are only with numbers\n",
    "df['A'] = timeAvg.A.str.extract('(\\d+)')\n",
    "df['B'] = timeAvg.B.str.extract('(\\d+)')\n",
    "\n",
    "df.dropna(inplace = True)\n",
    "\n",
    "df[['A', 'B']] = df[['A', 'B']].astype(float)\n",
    "\n",
    "df['Time'] = df[['A','B']].mean(axis=1)\n",
    "\n",
    "df = df.drop(['A', 'B'], axis=1)\n",
    "\n",
    "# df"
   ]
  },
  {
   "cell_type": "code",
   "execution_count": 480,
   "id": "ee229e6a",
   "metadata": {},
   "outputs": [],
   "source": [
    "# 4. Get rid of the date column as it is not going to be used\n",
    "df = df.drop(['Date'], axis=1)\n",
    "# df"
   ]
  },
  {
   "cell_type": "code",
   "execution_count": 481,
   "id": "588ecce2",
   "metadata": {},
   "outputs": [],
   "source": [
    "# 5. Convert all numeric columns's values from string to float\n",
    "\n",
    "# First we replace all , for . in players\n",
    "df['Players'] = df['Players'].replace(',', '.', regex=True)\n",
    "\n",
    "# Then we parse into a float type\n",
    "df[['Players', 'Ratio', 'AvgCompleted', 'Rating', 'MaxGameScore', 'AvgGameScore']] = df[['Players', 'Ratio', 'AvgCompleted', 'Rating', 'MaxGameScore', 'AvgGameScore']].astype(float)\n",
    "\n",
    "# df.head()"
   ]
  },
  {
   "cell_type": "code",
   "execution_count": 482,
   "id": "197dabd6",
   "metadata": {},
   "outputs": [],
   "source": [
    "# 6. Change the ratio, insted of being MaxGameScore/AvgGameScore it will become AvgGameScore/MaxGameScore\n",
    "df['Ratio'] = df['AvgGameScore']/df['MaxGameScore']\n",
    "# df.head()"
   ]
  },
  {
   "cell_type": "code",
   "execution_count": 483,
   "id": "6acb011b",
   "metadata": {},
   "outputs": [
    {
     "data": {
      "text/plain": [
       "'\\nLineal Regression Models\\n'"
      ]
     },
     "execution_count": 483,
     "metadata": {},
     "output_type": "execute_result"
    }
   ],
   "source": [
    "'''\n",
    "Lineal Regression Models\n",
    "'''"
   ]
  },
  {
   "cell_type": "code",
   "execution_count": 484,
   "id": "e127b45e",
   "metadata": {},
   "outputs": [
    {
     "data": {
      "text/html": [
       "<div>\n",
       "<style scoped>\n",
       "    .dataframe tbody tr th:only-of-type {\n",
       "        vertical-align: middle;\n",
       "    }\n",
       "\n",
       "    .dataframe tbody tr th {\n",
       "        vertical-align: top;\n",
       "    }\n",
       "\n",
       "    .dataframe thead th {\n",
       "        text-align: right;\n",
       "    }\n",
       "</style>\n",
       "<table border=\"1\" class=\"dataframe\">\n",
       "  <thead>\n",
       "    <tr style=\"text-align: right;\">\n",
       "      <th></th>\n",
       "      <th>Ratio</th>\n",
       "      <th>Players</th>\n",
       "      <th>AvgCompleted</th>\n",
       "      <th>Time</th>\n",
       "      <th>Rating</th>\n",
       "      <th>MaxGameScore</th>\n",
       "      <th>AvgGameScore</th>\n",
       "    </tr>\n",
       "  </thead>\n",
       "  <tbody>\n",
       "    <tr>\n",
       "      <th>Ratio</th>\n",
       "      <td>1.00</td>\n",
       "      <td>0.13</td>\n",
       "      <td>0.78</td>\n",
       "      <td>-0.34</td>\n",
       "      <td>0.16</td>\n",
       "      <td>-0.59</td>\n",
       "      <td>-0.15</td>\n",
       "    </tr>\n",
       "    <tr>\n",
       "      <th>Players</th>\n",
       "      <td>0.13</td>\n",
       "      <td>1.00</td>\n",
       "      <td>-0.08</td>\n",
       "      <td>0.15</td>\n",
       "      <td>0.38</td>\n",
       "      <td>0.15</td>\n",
       "      <td>0.44</td>\n",
       "    </tr>\n",
       "    <tr>\n",
       "      <th>AvgCompleted</th>\n",
       "      <td>0.78</td>\n",
       "      <td>-0.08</td>\n",
       "      <td>1.00</td>\n",
       "      <td>-0.29</td>\n",
       "      <td>-0.04</td>\n",
       "      <td>-0.34</td>\n",
       "      <td>-0.17</td>\n",
       "    </tr>\n",
       "    <tr>\n",
       "      <th>Time</th>\n",
       "      <td>-0.34</td>\n",
       "      <td>0.15</td>\n",
       "      <td>-0.29</td>\n",
       "      <td>1.00</td>\n",
       "      <td>0.18</td>\n",
       "      <td>0.36</td>\n",
       "      <td>0.31</td>\n",
       "    </tr>\n",
       "    <tr>\n",
       "      <th>Rating</th>\n",
       "      <td>0.16</td>\n",
       "      <td>0.38</td>\n",
       "      <td>-0.04</td>\n",
       "      <td>0.18</td>\n",
       "      <td>1.00</td>\n",
       "      <td>-0.02</td>\n",
       "      <td>0.23</td>\n",
       "    </tr>\n",
       "    <tr>\n",
       "      <th>MaxGameScore</th>\n",
       "      <td>-0.59</td>\n",
       "      <td>0.15</td>\n",
       "      <td>-0.34</td>\n",
       "      <td>0.36</td>\n",
       "      <td>-0.02</td>\n",
       "      <td>1.00</td>\n",
       "      <td>0.72</td>\n",
       "    </tr>\n",
       "    <tr>\n",
       "      <th>AvgGameScore</th>\n",
       "      <td>-0.15</td>\n",
       "      <td>0.44</td>\n",
       "      <td>-0.17</td>\n",
       "      <td>0.31</td>\n",
       "      <td>0.23</td>\n",
       "      <td>0.72</td>\n",
       "      <td>1.00</td>\n",
       "    </tr>\n",
       "  </tbody>\n",
       "</table>\n",
       "</div>"
      ],
      "text/plain": [
       "              Ratio  Players  AvgCompleted  Time  Rating  MaxGameScore  \\\n",
       "Ratio          1.00     0.13          0.78 -0.34    0.16         -0.59   \n",
       "Players        0.13     1.00         -0.08  0.15    0.38          0.15   \n",
       "AvgCompleted   0.78    -0.08          1.00 -0.29   -0.04         -0.34   \n",
       "Time          -0.34     0.15         -0.29  1.00    0.18          0.36   \n",
       "Rating         0.16     0.38         -0.04  0.18    1.00         -0.02   \n",
       "MaxGameScore  -0.59     0.15         -0.34  0.36   -0.02          1.00   \n",
       "AvgGameScore  -0.15     0.44         -0.17  0.31    0.23          0.72   \n",
       "\n",
       "              AvgGameScore  \n",
       "Ratio                -0.15  \n",
       "Players               0.44  \n",
       "AvgCompleted         -0.17  \n",
       "Time                  0.31  \n",
       "Rating                0.23  \n",
       "MaxGameScore          0.72  \n",
       "AvgGameScore          1.00  "
      ]
     },
     "execution_count": 484,
     "metadata": {},
     "output_type": "execute_result"
    }
   ],
   "source": [
    "# We first have to create the correlation matrix to analyze if there are any values higher than .9\n",
    "correlation_matrix = df.corr().round(2)\n",
    "\n",
    "correlation_matrix"
   ]
  },
  {
   "cell_type": "code",
   "execution_count": 485,
   "id": "ba52a62c",
   "metadata": {
    "scrolled": true
   },
   "outputs": [
    {
     "data": {
      "text/plain": [
       "<AxesSubplot:>"
      ]
     },
     "execution_count": 485,
     "metadata": {},
     "output_type": "execute_result"
    },
    {
     "data": {
      "image/png": "[encoded data removed]",
      "text/plain": [
       "<Figure size 864x612 with 2 Axes>"
      ]
     },
     "metadata": {},
     "output_type": "display_data"
    }
   ],
   "source": [
    "# We can create a heat map to better visualize it\n",
    "sns.set(rc={'figure.figsize':(12,8.5)})\n",
    "sns.heatmap(data=correlation_matrix, annot=True)"
   ]
  },
  {
   "cell_type": "code",
   "execution_count": 486,
   "id": "9189ad9d",
   "metadata": {},
   "outputs": [],
   "source": [
    "# 1. Y: Players X: Rating, Ratio\n",
    "from sklearn.model_selection import train_test_split\n",
    "\n",
    "df.sort_values(by='Players', ascending=False)\n",
    "# df = df.head(100)\n",
    "\n",
    "# Players as Y\n",
    "# X = pd.DataFrame(np.c_[df['Rating'], df['Time'], df['MaxGameScore']], columns = ['Rating', 'Time', 'MaxGameScore'])\n",
    "# X = pd.DataFrame(np.c_[df['Rating'], df['Ratio']], columns = ['Rating','Ratio'])\n",
    "# X = pd.DataFrame(np.c_[df['Ratio'], df['Time']], columns = ['Ratio', 'Time'])\n",
    "# X = pd.DataFrame(np.c_[df['Rating'], df['Ratio'], df['Time']], columns = ['Rating','Ratio', 'Time'])\n",
    "# Y = df['Players']\n",
    "\n",
    "# Rating as Y\n",
    "Y = df['Rating']\n",
    "# X = pd.DataFrame(np.c_[df['Ratio'], df['Time']], columns = ['Ratio', 'Time'])\n",
    "X = pd.DataFrame(np.c_[df['Ratio'], df['Time'], df['Players']], columns = ['Ratio', 'Time', 'Players'])\n",
    "\n",
    "# Ratio as Y\n",
    "# X = pd.DataFrame(np.c_[df['Rating'], df['Time']], columns = ['Rating', 'Time'])\n",
    "# Y = df['Ratio']\n",
    "\n",
    "# Create train test split\n",
    "X_train, X_test, Y_train, Y_test = train_test_split(X, Y, test_size = 0.2, random_state=5)"
   ]
  },
  {
   "cell_type": "code",
   "execution_count": 487,
   "id": "27e3f294",
   "metadata": {},
   "outputs": [],
   "source": [
    "# Sort values depending of the amount of players\n",
    "# df.sort_values(by='Players', ascending=False)"
   ]
  },
  {
   "cell_type": "code",
   "execution_count": 488,
   "id": "eb6c1b16",
   "metadata": {},
   "outputs": [
    {
     "data": {
      "text/plain": [
       "LinearRegression()"
      ]
     },
     "execution_count": 488,
     "metadata": {},
     "output_type": "execute_result"
    }
   ],
   "source": [
    "from sklearn.linear_model import LinearRegression\n",
    "from sklearn.metrics import mean_squared_error, r2_score\n",
    "\n",
    "lin_model = LinearRegression()\n",
    "lin_model.fit(X_train, Y_train)"
   ]
  },
  {
   "cell_type": "code",
   "execution_count": 489,
   "id": "338b3f72",
   "metadata": {},
   "outputs": [
    {
     "name": "stdout",
     "output_type": "stream",
     "text": [
      "The model performance for training set\n",
      "--------------------------------------\n",
      "RMSE is 0.440992752129043\n",
      "R2 score is 0.21936384790458963\n",
      "\n",
      "\n",
      "The model performance for testing set\n",
      "--------------------------------------\n",
      "RMSE is 0.5096013513257008\n",
      "R2 score is 0.032867148897618326\n"
     ]
    }
   ],
   "source": [
    "# Model Evaluation\n",
    "y_train_predict = lin_model.predict(X_train)\n",
    "rmse = (np.sqrt(mean_squared_error(Y_train, y_train_predict)))\n",
    "r2 = r2_score(Y_train, y_train_predict)\n",
    "\n",
    "print(\"The model performance for training set\")\n",
    "print(\"--------------------------------------\")\n",
    "print('RMSE is {}'.format(rmse))\n",
    "print('R2 score is {}'.format(r2))\n",
    "print(\"\\n\")\n",
    "\n",
    "# model evaluation for testing set\n",
    "\n",
    "y_test_predict = lin_model.predict(X_test)\n",
    "# root mean square error of the model\n",
    "rmse = (np.sqrt(mean_squared_error(Y_test, y_test_predict)))\n",
    "\n",
    "# r-squared score of the model\n",
    "r2 = r2_score(Y_test, y_test_predict)\n",
    "\n",
    "print(\"The model performance for testing set\")\n",
    "print(\"--------------------------------------\")\n",
    "print('RMSE is {}'.format(rmse))\n",
    "print('R2 score is {}'.format(r2))"
   ]
  },
  {
   "cell_type": "code",
   "execution_count": 490,
   "id": "c7741294",
   "metadata": {},
   "outputs": [],
   "source": [
    "# Creación de DF para graficación y comprensión\n",
    "\n",
    "comp_t = pd.DataFrame({'Test': Y_test})\n",
    "comp_t.reindex(method='bfill')\n",
    "comp_t.index = range(comp_t.shape[0])\n",
    "comp_p = pd.DataFrame({'Pred': y_test_predict})\n",
    "\n",
    "#print(comp_t,round(comp_p,1))\n",
    "\n",
    "comp = pd.merge(comp_t,comp_p,left_index=True, right_index=True)\n",
    "# comp"
   ]
  },
  {
   "cell_type": "code",
   "execution_count": 491,
   "id": "75d6b1fb",
   "metadata": {},
   "outputs": [
    {
     "data": {
      "text/plain": [
       "<seaborn.axisgrid.FacetGrid at 0x281b1affd30>"
      ]
     },
     "execution_count": 491,
     "metadata": {},
     "output_type": "execute_result"
    },
    {
     "data": {
      "image/png": "[encoded data removed]",
      "text/plain": [
       "<Figure size 360x360 with 1 Axes>"
      ]
     },
     "metadata": {},
     "output_type": "display_data"
    }
   ],
   "source": [
    "sns.lmplot(x='Test',y='Pred',data=comp)"
   ]
  },
  {
   "cell_type": "code",
   "execution_count": null,
   "id": "dc6dbc4c",
   "metadata": {},
   "outputs": [],
   "source": [
    "'''\n",
    "Logistic Regression\n",
    "'''"
   ]
  },
  {
   "cell_type": "code",
   "execution_count": null,
   "id": "d3a7a803",
   "metadata": {},
   "outputs": [],
   "source": []
  },
  {
   "cell_type": "code",
   "execution_count": null,
   "id": "e2f9c4a6",
   "metadata": {},
   "outputs": [],
   "source": []
  },
  {
   "cell_type": "code",
   "execution_count": null,
   "id": "d0f81338",
   "metadata": {},
   "outputs": [],
   "source": []
  },
  {
   "cell_type": "code",
   "execution_count": null,
   "id": "d1bd4256",
   "metadata": {},
   "outputs": [],
   "source": []
  },
  {
   "cell_type": "code",
   "execution_count": null,
   "id": "7c78bdf2",
   "metadata": {},
   "outputs": [],
   "source": []
  },
  {
   "cell_type": "code",
   "execution_count": null,
   "id": "81647261",
   "metadata": {},
   "outputs": [],
   "source": []
  },
  {
   "cell_type": "code",
   "execution_count": null,
   "id": "a11b0ddb",
   "metadata": {},
   "outputs": [],
   "source": []
  },
  {
   "cell_type": "code",
   "execution_count": null,
   "id": "cfed46db",
   "metadata": {},
   "outputs": [],
   "source": []
  },
  {
   "cell_type": "code",
   "execution_count": null,
   "id": "90d40353",
   "metadata": {},
   "outputs": [],
   "source": []
  },
  {
   "cell_type": "code",
   "execution_count": null,
   "id": "9cad3437",
   "metadata": {},
   "outputs": [],
   "source": []
  },
  {
   "cell_type": "code",
   "execution_count": null,
   "id": "26ae7b7a",
   "metadata": {},
   "outputs": [],
   "source": []
  },
  {
   "cell_type": "code",
   "execution_count": null,
   "id": "d81d1ebb",
   "metadata": {},
   "outputs": [],
   "source": []
  },
  {
   "cell_type": "code",
   "execution_count": null,
   "id": "1e4b0364",
   "metadata": {},
   "outputs": [],
   "source": []
  }
 ],
 "metadata": {
  "kernelspec": {
   "display_name": "Python 3 (ipykernel)",
   "language": "python",
   "name": "python3"
  },
  "language_info": {
   "codemirror_mode": {
    "name": "ipython",
    "version": 3
   },
   "file_extension": ".py",
   "mimetype": "text/x-python",
   "name": "python",
   "nbconvert_exporter": "python",
   "pygments_lexer": "ipython3",
   "version": "3.9.12"
  }
 },
 "nbformat": 4,
 "nbformat_minor": 5
}
