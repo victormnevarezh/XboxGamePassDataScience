{
 "cells": [
  {
   "cell_type": "code",
   "execution_count": 334,
   "id": "0e328a1e",
   "metadata": {},
   "outputs": [],
   "source": [
    "import numpy as np\n",
    "import matplotlib.pyplot as plt \n",
    "import pandas as pd  \n",
    "import seaborn as sns \n",
    "from sklearn.model_selection import train_test_split\n",
    "%matplotlib inline"
   ]
  },
  {
   "cell_type": "code",
   "execution_count": 335,
   "id": "e7128896",
   "metadata": {},
   "outputs": [],
   "source": [
    "# We read the parquet and turn it into a dataframe\n",
    "df = pd.read_parquet('df.parquet.gzip')  "
   ]
  },
  {
   "cell_type": "code",
   "execution_count": 336,
   "id": "269aefe7",
   "metadata": {},
   "outputs": [
    {
     "data": {
      "text/plain": [
       "'\\nLogistic Regression\\n'"
      ]
     },
     "execution_count": 336,
     "metadata": {},
     "output_type": "execute_result"
    }
   ],
   "source": [
    "'''\n",
    "Logistic Regression\n",
    "'''"
   ]
  },
  {
   "cell_type": "code",
   "execution_count": 337,
   "id": "3a435fef",
   "metadata": {},
   "outputs": [],
   "source": [
    "# We create a new dataframe\n",
    "dfLR = df"
   ]
  },
  {
   "cell_type": "code",
   "execution_count": 338,
   "id": "6a52a14e",
   "metadata": {},
   "outputs": [],
   "source": [
    "# Careful to only run this operation once\n",
    "dfLR['Rating'].where((dfLR['Rating'] > 3.5), 0, inplace=True)\n",
    "dfLR['Rating'].where(dfLR['Rating'] <= 3.5, 1, inplace=True)"
   ]
  },
  {
   "cell_type": "code",
   "execution_count": 339,
   "id": "3402d60a",
   "metadata": {},
   "outputs": [],
   "source": [
    "# dfLR['Ratio'].mean()\n",
    "# dfLR['Players'].mean()"
   ]
  },
  {
   "cell_type": "code",
   "execution_count": 340,
   "id": "cb9410ff",
   "metadata": {},
   "outputs": [],
   "source": [
    "# dfLR[['Ratio', 'Players']].sub([.35, 50000], axis='columns')"
   ]
  },
  {
   "cell_type": "code",
   "execution_count": 341,
   "id": "ac04a3cc",
   "metadata": {},
   "outputs": [],
   "source": [
    "# dfLR[\"Rating\"] = np.sign(df[\"Rating\"]).astype(int)\n",
    "# dfLR['Rating'].head(50)\n",
    "# criteria = dfLR[dfLR['Rating'] == 1]\n",
    "# criteria"
   ]
  },
  {
   "cell_type": "code",
   "execution_count": 342,
   "id": "66afa69b",
   "metadata": {},
   "outputs": [
    {
     "data": {
      "text/html": [
       "<div>\n",
       "<style scoped>\n",
       "    .dataframe tbody tr th:only-of-type {\n",
       "        vertical-align: middle;\n",
       "    }\n",
       "\n",
       "    .dataframe tbody tr th {\n",
       "        vertical-align: top;\n",
       "    }\n",
       "\n",
       "    .dataframe thead th {\n",
       "        text-align: right;\n",
       "    }\n",
       "</style>\n",
       "<table border=\"1\" class=\"dataframe\">\n",
       "  <thead>\n",
       "    <tr style=\"text-align: right;\">\n",
       "      <th></th>\n",
       "      <th>Ratio</th>\n",
       "      <th>Players</th>\n",
       "    </tr>\n",
       "  </thead>\n",
       "  <tbody>\n",
       "    <tr>\n",
       "      <th>0</th>\n",
       "      <td>0.535649</td>\n",
       "      <td>84143.0</td>\n",
       "    </tr>\n",
       "    <tr>\n",
       "      <th>1</th>\n",
       "      <td>0.507365</td>\n",
       "      <td>213257.0</td>\n",
       "    </tr>\n",
       "    <tr>\n",
       "      <th>2</th>\n",
       "      <td>0.744915</td>\n",
       "      <td>221178.0</td>\n",
       "    </tr>\n",
       "    <tr>\n",
       "      <th>3</th>\n",
       "      <td>0.329381</td>\n",
       "      <td>51530.0</td>\n",
       "    </tr>\n",
       "    <tr>\n",
       "      <th>4</th>\n",
       "      <td>0.595948</td>\n",
       "      <td>71981.0</td>\n",
       "    </tr>\n",
       "    <tr>\n",
       "      <th>...</th>\n",
       "      <td>...</td>\n",
       "      <td>...</td>\n",
       "    </tr>\n",
       "    <tr>\n",
       "      <th>440</th>\n",
       "      <td>0.638978</td>\n",
       "      <td>1250.0</td>\n",
       "    </tr>\n",
       "    <tr>\n",
       "      <th>445</th>\n",
       "      <td>0.125676</td>\n",
       "      <td>9309.0</td>\n",
       "    </tr>\n",
       "    <tr>\n",
       "      <th>446</th>\n",
       "      <td>0.210040</td>\n",
       "      <td>5618.0</td>\n",
       "    </tr>\n",
       "    <tr>\n",
       "      <th>447</th>\n",
       "      <td>0.415942</td>\n",
       "      <td>1733.0</td>\n",
       "    </tr>\n",
       "    <tr>\n",
       "      <th>450</th>\n",
       "      <td>0.256082</td>\n",
       "      <td>4509.0</td>\n",
       "    </tr>\n",
       "  </tbody>\n",
       "</table>\n",
       "<p>416 rows × 2 columns</p>\n",
       "</div>"
      ],
      "text/plain": [
       "        Ratio   Players\n",
       "0    0.535649   84143.0\n",
       "1    0.507365  213257.0\n",
       "2    0.744915  221178.0\n",
       "3    0.329381   51530.0\n",
       "4    0.595948   71981.0\n",
       "..        ...       ...\n",
       "440  0.638978    1250.0\n",
       "445  0.125676    9309.0\n",
       "446  0.210040    5618.0\n",
       "447  0.415942    1733.0\n",
       "450  0.256082    4509.0\n",
       "\n",
       "[416 rows x 2 columns]"
      ]
     },
     "execution_count": 342,
     "metadata": {},
     "output_type": "execute_result"
    }
   ],
   "source": [
    "# Variable output\n",
    "y = dfLR['Rating']\n",
    "# Variable inputs\n",
    "X = dfLR.drop(columns = ['Game', 'AvgCompleted', 'Time', 'Rating', 'MaxGameScore', 'AvgGameScore'])\n",
    "\n",
    "# We create the train test split\n",
    "X_train, X_test, y_train, y_test = train_test_split(X, y, test_size=0.20, random_state=45)\n",
    "\n",
    "X"
   ]
  },
  {
   "cell_type": "code",
   "execution_count": 343,
   "id": "30119827",
   "metadata": {},
   "outputs": [],
   "source": [
    "# We import the model for Logistic Regression\n",
    "from sklearn.linear_model import LogisticRegression\n",
    "\n",
    "# We create an empty model\n",
    "log_model = LogisticRegression()\n",
    "# We train the model with 80% of the available data\n",
    "log_model.fit(X_train,y_train)\n",
    "# We use the available 20% for test\n",
    "y_pred = log_model.predict(X_test)"
   ]
  },
  {
   "cell_type": "code",
   "execution_count": 344,
   "id": "8154645f",
   "metadata": {},
   "outputs": [
    {
     "data": {
      "text/html": [
       "<div>\n",
       "<style scoped>\n",
       "    .dataframe tbody tr th:only-of-type {\n",
       "        vertical-align: middle;\n",
       "    }\n",
       "\n",
       "    .dataframe tbody tr th {\n",
       "        vertical-align: top;\n",
       "    }\n",
       "\n",
       "    .dataframe thead th {\n",
       "        text-align: right;\n",
       "    }\n",
       "</style>\n",
       "<table border=\"1\" class=\"dataframe\">\n",
       "  <thead>\n",
       "    <tr style=\"text-align: right;\">\n",
       "      <th></th>\n",
       "      <th>Test</th>\n",
       "      <th>Pred</th>\n",
       "    </tr>\n",
       "  </thead>\n",
       "  <tbody>\n",
       "    <tr>\n",
       "      <th>0</th>\n",
       "      <td>0.0</td>\n",
       "      <td>1.0</td>\n",
       "    </tr>\n",
       "    <tr>\n",
       "      <th>1</th>\n",
       "      <td>1.0</td>\n",
       "      <td>1.0</td>\n",
       "    </tr>\n",
       "    <tr>\n",
       "      <th>2</th>\n",
       "      <td>0.0</td>\n",
       "      <td>1.0</td>\n",
       "    </tr>\n",
       "    <tr>\n",
       "      <th>3</th>\n",
       "      <td>0.0</td>\n",
       "      <td>1.0</td>\n",
       "    </tr>\n",
       "    <tr>\n",
       "      <th>4</th>\n",
       "      <td>0.0</td>\n",
       "      <td>1.0</td>\n",
       "    </tr>\n",
       "    <tr>\n",
       "      <th>...</th>\n",
       "      <td>...</td>\n",
       "      <td>...</td>\n",
       "    </tr>\n",
       "    <tr>\n",
       "      <th>79</th>\n",
       "      <td>1.0</td>\n",
       "      <td>1.0</td>\n",
       "    </tr>\n",
       "    <tr>\n",
       "      <th>80</th>\n",
       "      <td>1.0</td>\n",
       "      <td>1.0</td>\n",
       "    </tr>\n",
       "    <tr>\n",
       "      <th>81</th>\n",
       "      <td>1.0</td>\n",
       "      <td>1.0</td>\n",
       "    </tr>\n",
       "    <tr>\n",
       "      <th>82</th>\n",
       "      <td>1.0</td>\n",
       "      <td>1.0</td>\n",
       "    </tr>\n",
       "    <tr>\n",
       "      <th>83</th>\n",
       "      <td>0.0</td>\n",
       "      <td>1.0</td>\n",
       "    </tr>\n",
       "  </tbody>\n",
       "</table>\n",
       "<p>84 rows × 2 columns</p>\n",
       "</div>"
      ],
      "text/plain": [
       "    Test  Pred\n",
       "0    0.0   1.0\n",
       "1    1.0   1.0\n",
       "2    0.0   1.0\n",
       "3    0.0   1.0\n",
       "4    0.0   1.0\n",
       "..   ...   ...\n",
       "79   1.0   1.0\n",
       "80   1.0   1.0\n",
       "81   1.0   1.0\n",
       "82   1.0   1.0\n",
       "83   0.0   1.0\n",
       "\n",
       "[84 rows x 2 columns]"
      ]
     },
     "execution_count": 344,
     "metadata": {},
     "output_type": "execute_result"
    }
   ],
   "source": [
    "comp_t = pd.DataFrame({'Test': y_test})\n",
    "comp_t.reindex(method='bfill')\n",
    "comp_t.index = range(comp_t.shape[0])\n",
    "comp_p = pd.DataFrame({'Pred': y_pred})\n",
    "\n",
    "#print(comp_t,round(comp_p,1))\n",
    "\n",
    "comp = pd.merge(comp_t,comp_p,left_index=True, right_index=True)\n",
    "comp"
   ]
  },
  {
   "cell_type": "code",
   "execution_count": 345,
   "id": "f80fdcca",
   "metadata": {},
   "outputs": [
    {
     "data": {
      "text/plain": [
       "<seaborn.axisgrid.FacetGrid at 0x19ed472c820>"
      ]
     },
     "execution_count": 345,
     "metadata": {},
     "output_type": "execute_result"
    },
    {
     "data": {
      "image/png": "[encoded data removed]",
      "text/plain": [
       "<Figure size 412x360 with 1 Axes>"
      ]
     },
     "metadata": {
      "needs_background": "light"
     },
     "output_type": "display_data"
    }
   ],
   "source": [
    "# Graficar Datos Prueba vs Datos Predictivos\n",
    "import seaborn as sns\n",
    "\n",
    "sns.relplot(x='Test',y='Pred',data=comp, hue=\"Pred\")"
   ]
  },
  {
   "cell_type": "code",
   "execution_count": 346,
   "id": "2d1489f3",
   "metadata": {},
   "outputs": [],
   "source": [
    "# import for the confusion matrix\n",
    "from sklearn.metrics import confusion_matrix\n",
    "# Create confusion matrix\n",
    "cmatrix = confusion_matrix(y_test, y_pred)\n",
    "np.set_printoptions(precision=2)"
   ]
  },
  {
   "cell_type": "code",
   "execution_count": 347,
   "id": "2ecae59c",
   "metadata": {},
   "outputs": [
    {
     "name": "stdout",
     "output_type": "stream",
     "text": [
      "True Negatives:  0\n",
      "False Positives:  32\n",
      "False Negatives:  0\n",
      "True Positives:  52\n"
     ]
    }
   ],
   "source": [
    "# Extract values from the confusion matrix\n",
    "tn, fp, fn, tp = confusion_matrix(y_test, y_pred).ravel()\n",
    "print(\"True Negatives: \",tn)\n",
    "print(\"False Positives: \",fp)\n",
    "print(\"False Negatives: \",fn)\n",
    "print(\"True Positives: \",tp)"
   ]
  },
  {
   "cell_type": "code",
   "execution_count": 348,
   "id": "1261cf0f",
   "metadata": {},
   "outputs": [
    {
     "name": "stdout",
     "output_type": "stream",
     "text": [
      "Accuracy 61.90%\n"
     ]
    }
   ],
   "source": [
    "# Accuracy (%) \n",
    "Accuracy = (tn+tp)*100/(tp+tn+fp+fn) \n",
    "\n",
    "print(\"Accuracy {:0.2f}%\".format(Accuracy))"
   ]
  },
  {
   "cell_type": "code",
   "execution_count": 349,
   "id": "75792434",
   "metadata": {},
   "outputs": [
    {
     "name": "stdout",
     "output_type": "stream",
     "text": [
      "Precision 0.62\n"
     ]
    }
   ],
   "source": [
    "# Precision\n",
    "Precision = tp/(tp+fp) \n",
    "print(\"Precision {:0.2f}\".format(Precision))"
   ]
  },
  {
   "cell_type": "code",
   "execution_count": 350,
   "id": "9e9985e3",
   "metadata": {},
   "outputs": [
    {
     "name": "stdout",
     "output_type": "stream",
     "text": [
      "Specificity 0.00\n"
     ]
    }
   ],
   "source": [
    "# Specificity \n",
    "\n",
    "Specificity = tn/(tn+fp)\n",
    "print(\"Specificity {:0.2f}\".format(Specificity))"
   ]
  },
  {
   "cell_type": "code",
   "execution_count": 367,
   "id": "37805e0c",
   "metadata": {
    "scrolled": false
   },
   "outputs": [],
   "source": [
    "y_pred = y_pred.astype(float)\n",
    "y_pred = pd.DataFrame(y_pred)\n",
    "\n",
    "y_test = y_test.astype(float)\n",
    "y_test = pd.DataFrame(y_test)"
   ]
  },
  {
   "cell_type": "code",
   "execution_count": 370,
   "id": "ae08d0c2",
   "metadata": {},
   "outputs": [
    {
     "data": {
      "image/png": "[encoded data removed]",
      "text/plain": [
       "<Figure size 432x288 with 1 Axes>"
      ]
     },
     "metadata": {
      "needs_background": "light"
     },
     "output_type": "display_data"
    }
   ],
   "source": [
    "import scikitplot as skplt\n",
    "from sklearn.metrics import RocCurveDisplay\n",
    "\n",
    "# Compare prediction against training\n",
    "RocCurveDisplay.from_predictions(y_test, y_pred)\n",
    "\n",
    "\n",
    "plt.show()"
   ]
  }
 ],
 "metadata": {
  "kernelspec": {
   "display_name": "Python 3 (ipykernel)",
   "language": "python",
   "name": "python3"
  },
  "language_info": {
   "codemirror_mode": {
    "name": "ipython",
    "version": 3
   },
   "file_extension": ".py",
   "mimetype": "text/x-python",
   "name": "python",
   "nbconvert_exporter": "python",
   "pygments_lexer": "ipython3",
   "version": "3.9.12"
  }
 },
 "nbformat": 4,
 "nbformat_minor": 5
}
